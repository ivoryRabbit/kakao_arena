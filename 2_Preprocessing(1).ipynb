{
  "nbformat": 4,
  "nbformat_minor": 0,
  "metadata": {
    "colab": {
      "name": "2.Preprocessing(1).ipynb",
      "provenance": [],
      "collapsed_sections": [],
      "toc_visible": true,
      "authorship_tag": "ABX9TyNtWQLL65+U5pyGlFZ8SbmZ",
      "include_colab_link": true
    },
    "kernelspec": {
      "name": "python3",
      "display_name": "Python 3"
    },
    "widgets": {
      "application/vnd.jupyter.widget-state+json": {
        "f43be3ab528c43d99613a885fee2abc0": {
          "model_module": "@jupyter-widgets/controls",
          "model_name": "HBoxModel",
          "state": {
            "_view_name": "HBoxView",
            "_dom_classes": [],
            "_model_name": "HBoxModel",
            "_view_module": "@jupyter-widgets/controls",
            "_model_module_version": "1.5.0",
            "_view_count": null,
            "_view_module_version": "1.5.0",
            "box_style": "",
            "layout": "IPY_MODEL_dc6e80b02df240f8be9618ff55998054",
            "_model_module": "@jupyter-widgets/controls",
            "children": [
              "IPY_MODEL_dab07519040b462e865968fd46066d4c",
              "IPY_MODEL_e0afa27598674501b6ae2b742ec86c90"
            ]
          }
        },
        "dc6e80b02df240f8be9618ff55998054": {
          "model_module": "@jupyter-widgets/base",
          "model_name": "LayoutModel",
          "state": {
            "_view_name": "LayoutView",
            "grid_template_rows": null,
            "right": null,
            "justify_content": null,
            "_view_module": "@jupyter-widgets/base",
            "overflow": null,
            "_model_module_version": "1.2.0",
            "_view_count": null,
            "flex_flow": null,
            "width": null,
            "min_width": null,
            "border": null,
            "align_items": null,
            "bottom": null,
            "_model_module": "@jupyter-widgets/base",
            "top": null,
            "grid_column": null,
            "overflow_y": null,
            "overflow_x": null,
            "grid_auto_flow": null,
            "grid_area": null,
            "grid_template_columns": null,
            "flex": null,
            "_model_name": "LayoutModel",
            "justify_items": null,
            "grid_row": null,
            "max_height": null,
            "align_content": null,
            "visibility": null,
            "align_self": null,
            "height": null,
            "min_height": null,
            "padding": null,
            "grid_auto_rows": null,
            "grid_gap": null,
            "max_width": null,
            "order": null,
            "_view_module_version": "1.2.0",
            "grid_template_areas": null,
            "object_position": null,
            "object_fit": null,
            "grid_auto_columns": null,
            "margin": null,
            "display": null,
            "left": null
          }
        },
        "dab07519040b462e865968fd46066d4c": {
          "model_module": "@jupyter-widgets/controls",
          "model_name": "FloatProgressModel",
          "state": {
            "_view_name": "ProgressView",
            "style": "IPY_MODEL_0643ce38d5964faa84987e099ff491b1",
            "_dom_classes": [],
            "description": "100%",
            "_model_name": "FloatProgressModel",
            "bar_style": "success",
            "max": 254,
            "_view_module": "@jupyter-widgets/controls",
            "_model_module_version": "1.5.0",
            "value": 254,
            "_view_count": null,
            "_view_module_version": "1.5.0",
            "orientation": "horizontal",
            "min": 0,
            "description_tooltip": null,
            "_model_module": "@jupyter-widgets/controls",
            "layout": "IPY_MODEL_9339c86719ad4cc690f2d15789f18d78"
          }
        },
        "e0afa27598674501b6ae2b742ec86c90": {
          "model_module": "@jupyter-widgets/controls",
          "model_name": "HTMLModel",
          "state": {
            "_view_name": "HTMLView",
            "style": "IPY_MODEL_de39bae86dea4872aabd40f874364dd1",
            "_dom_classes": [],
            "description": "",
            "_model_name": "HTMLModel",
            "placeholder": "​",
            "_view_module": "@jupyter-widgets/controls",
            "_model_module_version": "1.5.0",
            "value": " 254/254 [00:06&lt;00:00, 41.86it/s]",
            "_view_count": null,
            "_view_module_version": "1.5.0",
            "description_tooltip": null,
            "_model_module": "@jupyter-widgets/controls",
            "layout": "IPY_MODEL_6bfad8f6b2604abba754cb2b25232678"
          }
        },
        "0643ce38d5964faa84987e099ff491b1": {
          "model_module": "@jupyter-widgets/controls",
          "model_name": "ProgressStyleModel",
          "state": {
            "_view_name": "StyleView",
            "_model_name": "ProgressStyleModel",
            "description_width": "initial",
            "_view_module": "@jupyter-widgets/base",
            "_model_module_version": "1.5.0",
            "_view_count": null,
            "_view_module_version": "1.2.0",
            "bar_color": null,
            "_model_module": "@jupyter-widgets/controls"
          }
        },
        "9339c86719ad4cc690f2d15789f18d78": {
          "model_module": "@jupyter-widgets/base",
          "model_name": "LayoutModel",
          "state": {
            "_view_name": "LayoutView",
            "grid_template_rows": null,
            "right": null,
            "justify_content": null,
            "_view_module": "@jupyter-widgets/base",
            "overflow": null,
            "_model_module_version": "1.2.0",
            "_view_count": null,
            "flex_flow": null,
            "width": null,
            "min_width": null,
            "border": null,
            "align_items": null,
            "bottom": null,
            "_model_module": "@jupyter-widgets/base",
            "top": null,
            "grid_column": null,
            "overflow_y": null,
            "overflow_x": null,
            "grid_auto_flow": null,
            "grid_area": null,
            "grid_template_columns": null,
            "flex": null,
            "_model_name": "LayoutModel",
            "justify_items": null,
            "grid_row": null,
            "max_height": null,
            "align_content": null,
            "visibility": null,
            "align_self": null,
            "height": null,
            "min_height": null,
            "padding": null,
            "grid_auto_rows": null,
            "grid_gap": null,
            "max_width": null,
            "order": null,
            "_view_module_version": "1.2.0",
            "grid_template_areas": null,
            "object_position": null,
            "object_fit": null,
            "grid_auto_columns": null,
            "margin": null,
            "display": null,
            "left": null
          }
        },
        "de39bae86dea4872aabd40f874364dd1": {
          "model_module": "@jupyter-widgets/controls",
          "model_name": "DescriptionStyleModel",
          "state": {
            "_view_name": "StyleView",
            "_model_name": "DescriptionStyleModel",
            "description_width": "",
            "_view_module": "@jupyter-widgets/base",
            "_model_module_version": "1.5.0",
            "_view_count": null,
            "_view_module_version": "1.2.0",
            "_model_module": "@jupyter-widgets/controls"
          }
        },
        "6bfad8f6b2604abba754cb2b25232678": {
          "model_module": "@jupyter-widgets/base",
          "model_name": "LayoutModel",
          "state": {
            "_view_name": "LayoutView",
            "grid_template_rows": null,
            "right": null,
            "justify_content": null,
            "_view_module": "@jupyter-widgets/base",
            "overflow": null,
            "_model_module_version": "1.2.0",
            "_view_count": null,
            "flex_flow": null,
            "width": null,
            "min_width": null,
            "border": null,
            "align_items": null,
            "bottom": null,
            "_model_module": "@jupyter-widgets/base",
            "top": null,
            "grid_column": null,
            "overflow_y": null,
            "overflow_x": null,
            "grid_auto_flow": null,
            "grid_area": null,
            "grid_template_columns": null,
            "flex": null,
            "_model_name": "LayoutModel",
            "justify_items": null,
            "grid_row": null,
            "max_height": null,
            "align_content": null,
            "visibility": null,
            "align_self": null,
            "height": null,
            "min_height": null,
            "padding": null,
            "grid_auto_rows": null,
            "grid_gap": null,
            "max_width": null,
            "order": null,
            "_view_module_version": "1.2.0",
            "grid_template_areas": null,
            "object_position": null,
            "object_fit": null,
            "grid_auto_columns": null,
            "margin": null,
            "display": null,
            "left": null
          }
        },
        "858b64650b034db5b7ce55ed6596d84b": {
          "model_module": "@jupyter-widgets/controls",
          "model_name": "HBoxModel",
          "state": {
            "_view_name": "HBoxView",
            "_dom_classes": [],
            "_model_name": "HBoxModel",
            "_view_module": "@jupyter-widgets/controls",
            "_model_module_version": "1.5.0",
            "_view_count": null,
            "_view_module_version": "1.5.0",
            "box_style": "",
            "layout": "IPY_MODEL_8f9e0997c46f4293996546ee6763cfc8",
            "_model_module": "@jupyter-widgets/controls",
            "children": [
              "IPY_MODEL_8e385e82c58148f69457128ad4ae206f",
              "IPY_MODEL_ab97ec4af39f46fbbb985135dbf4e3e8"
            ]
          }
        },
        "8f9e0997c46f4293996546ee6763cfc8": {
          "model_module": "@jupyter-widgets/base",
          "model_name": "LayoutModel",
          "state": {
            "_view_name": "LayoutView",
            "grid_template_rows": null,
            "right": null,
            "justify_content": null,
            "_view_module": "@jupyter-widgets/base",
            "overflow": null,
            "_model_module_version": "1.2.0",
            "_view_count": null,
            "flex_flow": null,
            "width": null,
            "min_width": null,
            "border": null,
            "align_items": null,
            "bottom": null,
            "_model_module": "@jupyter-widgets/base",
            "top": null,
            "grid_column": null,
            "overflow_y": null,
            "overflow_x": null,
            "grid_auto_flow": null,
            "grid_area": null,
            "grid_template_columns": null,
            "flex": null,
            "_model_name": "LayoutModel",
            "justify_items": null,
            "grid_row": null,
            "max_height": null,
            "align_content": null,
            "visibility": null,
            "align_self": null,
            "height": null,
            "min_height": null,
            "padding": null,
            "grid_auto_rows": null,
            "grid_gap": null,
            "max_width": null,
            "order": null,
            "_view_module_version": "1.2.0",
            "grid_template_areas": null,
            "object_position": null,
            "object_fit": null,
            "grid_auto_columns": null,
            "margin": null,
            "display": null,
            "left": null
          }
        },
        "8e385e82c58148f69457128ad4ae206f": {
          "model_module": "@jupyter-widgets/controls",
          "model_name": "FloatProgressModel",
          "state": {
            "_view_name": "ProgressView",
            "style": "IPY_MODEL_a09bee56bc1047ccabfabae0f046a33d",
            "_dom_classes": [],
            "description": "100%",
            "_model_name": "FloatProgressModel",
            "bar_style": "success",
            "max": 21,
            "_view_module": "@jupyter-widgets/controls",
            "_model_module_version": "1.5.0",
            "value": 21,
            "_view_count": null,
            "_view_module_version": "1.5.0",
            "orientation": "horizontal",
            "min": 0,
            "description_tooltip": null,
            "_model_module": "@jupyter-widgets/controls",
            "layout": "IPY_MODEL_df0a2ac800ac49b48e3eee18c655a7c8"
          }
        },
        "ab97ec4af39f46fbbb985135dbf4e3e8": {
          "model_module": "@jupyter-widgets/controls",
          "model_name": "HTMLModel",
          "state": {
            "_view_name": "HTMLView",
            "style": "IPY_MODEL_bf9c72820e2f4e6a8c5266cd8489fc81",
            "_dom_classes": [],
            "description": "",
            "_model_name": "HTMLModel",
            "placeholder": "​",
            "_view_module": "@jupyter-widgets/controls",
            "_model_module_version": "1.5.0",
            "value": " 21/21 [00:28&lt;00:00,  1.34s/it]",
            "_view_count": null,
            "_view_module_version": "1.5.0",
            "description_tooltip": null,
            "_model_module": "@jupyter-widgets/controls",
            "layout": "IPY_MODEL_8a6a9d4c7e3c448096392f90102282ac"
          }
        },
        "a09bee56bc1047ccabfabae0f046a33d": {
          "model_module": "@jupyter-widgets/controls",
          "model_name": "ProgressStyleModel",
          "state": {
            "_view_name": "StyleView",
            "_model_name": "ProgressStyleModel",
            "description_width": "initial",
            "_view_module": "@jupyter-widgets/base",
            "_model_module_version": "1.5.0",
            "_view_count": null,
            "_view_module_version": "1.2.0",
            "bar_color": null,
            "_model_module": "@jupyter-widgets/controls"
          }
        },
        "df0a2ac800ac49b48e3eee18c655a7c8": {
          "model_module": "@jupyter-widgets/base",
          "model_name": "LayoutModel",
          "state": {
            "_view_name": "LayoutView",
            "grid_template_rows": null,
            "right": null,
            "justify_content": null,
            "_view_module": "@jupyter-widgets/base",
            "overflow": null,
            "_model_module_version": "1.2.0",
            "_view_count": null,
            "flex_flow": null,
            "width": null,
            "min_width": null,
            "border": null,
            "align_items": null,
            "bottom": null,
            "_model_module": "@jupyter-widgets/base",
            "top": null,
            "grid_column": null,
            "overflow_y": null,
            "overflow_x": null,
            "grid_auto_flow": null,
            "grid_area": null,
            "grid_template_columns": null,
            "flex": null,
            "_model_name": "LayoutModel",
            "justify_items": null,
            "grid_row": null,
            "max_height": null,
            "align_content": null,
            "visibility": null,
            "align_self": null,
            "height": null,
            "min_height": null,
            "padding": null,
            "grid_auto_rows": null,
            "grid_gap": null,
            "max_width": null,
            "order": null,
            "_view_module_version": "1.2.0",
            "grid_template_areas": null,
            "object_position": null,
            "object_fit": null,
            "grid_auto_columns": null,
            "margin": null,
            "display": null,
            "left": null
          }
        },
        "bf9c72820e2f4e6a8c5266cd8489fc81": {
          "model_module": "@jupyter-widgets/controls",
          "model_name": "DescriptionStyleModel",
          "state": {
            "_view_name": "StyleView",
            "_model_name": "DescriptionStyleModel",
            "description_width": "",
            "_view_module": "@jupyter-widgets/base",
            "_model_module_version": "1.5.0",
            "_view_count": null,
            "_view_module_version": "1.2.0",
            "_model_module": "@jupyter-widgets/controls"
          }
        },
        "8a6a9d4c7e3c448096392f90102282ac": {
          "model_module": "@jupyter-widgets/base",
          "model_name": "LayoutModel",
          "state": {
            "_view_name": "LayoutView",
            "grid_template_rows": null,
            "right": null,
            "justify_content": null,
            "_view_module": "@jupyter-widgets/base",
            "overflow": null,
            "_model_module_version": "1.2.0",
            "_view_count": null,
            "flex_flow": null,
            "width": null,
            "min_width": null,
            "border": null,
            "align_items": null,
            "bottom": null,
            "_model_module": "@jupyter-widgets/base",
            "top": null,
            "grid_column": null,
            "overflow_y": null,
            "overflow_x": null,
            "grid_auto_flow": null,
            "grid_area": null,
            "grid_template_columns": null,
            "flex": null,
            "_model_name": "LayoutModel",
            "justify_items": null,
            "grid_row": null,
            "max_height": null,
            "align_content": null,
            "visibility": null,
            "align_self": null,
            "height": null,
            "min_height": null,
            "padding": null,
            "grid_auto_rows": null,
            "grid_gap": null,
            "max_width": null,
            "order": null,
            "_view_module_version": "1.2.0",
            "grid_template_areas": null,
            "object_position": null,
            "object_fit": null,
            "grid_auto_columns": null,
            "margin": null,
            "display": null,
            "left": null
          }
        },
        "b46cfadcd4474bd78178242fb628c430": {
          "model_module": "@jupyter-widgets/controls",
          "model_name": "HBoxModel",
          "state": {
            "_view_name": "HBoxView",
            "_dom_classes": [],
            "_model_name": "HBoxModel",
            "_view_module": "@jupyter-widgets/controls",
            "_model_module_version": "1.5.0",
            "_view_count": null,
            "_view_module_version": "1.5.0",
            "box_style": "",
            "layout": "IPY_MODEL_d844d7b33bc948119a01925e6192ec09",
            "_model_module": "@jupyter-widgets/controls",
            "children": [
              "IPY_MODEL_c5c632ef190541e5ad430c21d5aaedfa",
              "IPY_MODEL_5e15855c48a04e319ab0bf6466a28707"
            ]
          }
        },
        "d844d7b33bc948119a01925e6192ec09": {
          "model_module": "@jupyter-widgets/base",
          "model_name": "LayoutModel",
          "state": {
            "_view_name": "LayoutView",
            "grid_template_rows": null,
            "right": null,
            "justify_content": null,
            "_view_module": "@jupyter-widgets/base",
            "overflow": null,
            "_model_module_version": "1.2.0",
            "_view_count": null,
            "flex_flow": null,
            "width": null,
            "min_width": null,
            "border": null,
            "align_items": null,
            "bottom": null,
            "_model_module": "@jupyter-widgets/base",
            "top": null,
            "grid_column": null,
            "overflow_y": null,
            "overflow_x": null,
            "grid_auto_flow": null,
            "grid_area": null,
            "grid_template_columns": null,
            "flex": null,
            "_model_name": "LayoutModel",
            "justify_items": null,
            "grid_row": null,
            "max_height": null,
            "align_content": null,
            "visibility": null,
            "align_self": null,
            "height": null,
            "min_height": null,
            "padding": null,
            "grid_auto_rows": null,
            "grid_gap": null,
            "max_width": null,
            "order": null,
            "_view_module_version": "1.2.0",
            "grid_template_areas": null,
            "object_position": null,
            "object_fit": null,
            "grid_auto_columns": null,
            "margin": null,
            "display": null,
            "left": null
          }
        },
        "c5c632ef190541e5ad430c21d5aaedfa": {
          "model_module": "@jupyter-widgets/controls",
          "model_name": "FloatProgressModel",
          "state": {
            "_view_name": "ProgressView",
            "style": "IPY_MODEL_8ce94657555b4c238e49cfad77097a7c",
            "_dom_classes": [],
            "description": "100%",
            "_model_name": "FloatProgressModel",
            "bar_style": "success",
            "max": 10,
            "_view_module": "@jupyter-widgets/controls",
            "_model_module_version": "1.5.0",
            "value": 10,
            "_view_count": null,
            "_view_module_version": "1.5.0",
            "orientation": "horizontal",
            "min": 0,
            "description_tooltip": null,
            "_model_module": "@jupyter-widgets/controls",
            "layout": "IPY_MODEL_884a25aa2915409b920d0068f55e0354"
          }
        },
        "5e15855c48a04e319ab0bf6466a28707": {
          "model_module": "@jupyter-widgets/controls",
          "model_name": "HTMLModel",
          "state": {
            "_view_name": "HTMLView",
            "style": "IPY_MODEL_a6e2fa376f3e465f944a25d41e3a23ba",
            "_dom_classes": [],
            "description": "",
            "_model_name": "HTMLModel",
            "placeholder": "​",
            "_view_module": "@jupyter-widgets/controls",
            "_model_module_version": "1.5.0",
            "value": " 10/10 [00:22&lt;00:00,  2.23s/it]",
            "_view_count": null,
            "_view_module_version": "1.5.0",
            "description_tooltip": null,
            "_model_module": "@jupyter-widgets/controls",
            "layout": "IPY_MODEL_e67ad97adbc447e3bf971e11c18df5da"
          }
        },
        "8ce94657555b4c238e49cfad77097a7c": {
          "model_module": "@jupyter-widgets/controls",
          "model_name": "ProgressStyleModel",
          "state": {
            "_view_name": "StyleView",
            "_model_name": "ProgressStyleModel",
            "description_width": "initial",
            "_view_module": "@jupyter-widgets/base",
            "_model_module_version": "1.5.0",
            "_view_count": null,
            "_view_module_version": "1.2.0",
            "bar_color": null,
            "_model_module": "@jupyter-widgets/controls"
          }
        },
        "884a25aa2915409b920d0068f55e0354": {
          "model_module": "@jupyter-widgets/base",
          "model_name": "LayoutModel",
          "state": {
            "_view_name": "LayoutView",
            "grid_template_rows": null,
            "right": null,
            "justify_content": null,
            "_view_module": "@jupyter-widgets/base",
            "overflow": null,
            "_model_module_version": "1.2.0",
            "_view_count": null,
            "flex_flow": null,
            "width": null,
            "min_width": null,
            "border": null,
            "align_items": null,
            "bottom": null,
            "_model_module": "@jupyter-widgets/base",
            "top": null,
            "grid_column": null,
            "overflow_y": null,
            "overflow_x": null,
            "grid_auto_flow": null,
            "grid_area": null,
            "grid_template_columns": null,
            "flex": null,
            "_model_name": "LayoutModel",
            "justify_items": null,
            "grid_row": null,
            "max_height": null,
            "align_content": null,
            "visibility": null,
            "align_self": null,
            "height": null,
            "min_height": null,
            "padding": null,
            "grid_auto_rows": null,
            "grid_gap": null,
            "max_width": null,
            "order": null,
            "_view_module_version": "1.2.0",
            "grid_template_areas": null,
            "object_position": null,
            "object_fit": null,
            "grid_auto_columns": null,
            "margin": null,
            "display": null,
            "left": null
          }
        },
        "a6e2fa376f3e465f944a25d41e3a23ba": {
          "model_module": "@jupyter-widgets/controls",
          "model_name": "DescriptionStyleModel",
          "state": {
            "_view_name": "StyleView",
            "_model_name": "DescriptionStyleModel",
            "description_width": "",
            "_view_module": "@jupyter-widgets/base",
            "_model_module_version": "1.5.0",
            "_view_count": null,
            "_view_module_version": "1.2.0",
            "_model_module": "@jupyter-widgets/controls"
          }
        },
        "e67ad97adbc447e3bf971e11c18df5da": {
          "model_module": "@jupyter-widgets/base",
          "model_name": "LayoutModel",
          "state": {
            "_view_name": "LayoutView",
            "grid_template_rows": null,
            "right": null,
            "justify_content": null,
            "_view_module": "@jupyter-widgets/base",
            "overflow": null,
            "_model_module_version": "1.2.0",
            "_view_count": null,
            "flex_flow": null,
            "width": null,
            "min_width": null,
            "border": null,
            "align_items": null,
            "bottom": null,
            "_model_module": "@jupyter-widgets/base",
            "top": null,
            "grid_column": null,
            "overflow_y": null,
            "overflow_x": null,
            "grid_auto_flow": null,
            "grid_area": null,
            "grid_template_columns": null,
            "flex": null,
            "_model_name": "LayoutModel",
            "justify_items": null,
            "grid_row": null,
            "max_height": null,
            "align_content": null,
            "visibility": null,
            "align_self": null,
            "height": null,
            "min_height": null,
            "padding": null,
            "grid_auto_rows": null,
            "grid_gap": null,
            "max_width": null,
            "order": null,
            "_view_module_version": "1.2.0",
            "grid_template_areas": null,
            "object_position": null,
            "object_fit": null,
            "grid_auto_columns": null,
            "margin": null,
            "display": null,
            "left": null
          }
        },
        "c7dfae13f7c54b62b36dc0ce843a6588": {
          "model_module": "@jupyter-widgets/controls",
          "model_name": "HBoxModel",
          "state": {
            "_view_name": "HBoxView",
            "_dom_classes": [],
            "_model_name": "HBoxModel",
            "_view_module": "@jupyter-widgets/controls",
            "_model_module_version": "1.5.0",
            "_view_count": null,
            "_view_module_version": "1.5.0",
            "box_style": "",
            "layout": "IPY_MODEL_d8ba451aaf854724983f102f6cf99040",
            "_model_module": "@jupyter-widgets/controls",
            "children": [
              "IPY_MODEL_3035be15936043259f9f61461312c3b1",
              "IPY_MODEL_0f580e77793b43f991056a9231bfe784"
            ]
          }
        },
        "d8ba451aaf854724983f102f6cf99040": {
          "model_module": "@jupyter-widgets/base",
          "model_name": "LayoutModel",
          "state": {
            "_view_name": "LayoutView",
            "grid_template_rows": null,
            "right": null,
            "justify_content": null,
            "_view_module": "@jupyter-widgets/base",
            "overflow": null,
            "_model_module_version": "1.2.0",
            "_view_count": null,
            "flex_flow": null,
            "width": null,
            "min_width": null,
            "border": null,
            "align_items": null,
            "bottom": null,
            "_model_module": "@jupyter-widgets/base",
            "top": null,
            "grid_column": null,
            "overflow_y": null,
            "overflow_x": null,
            "grid_auto_flow": null,
            "grid_area": null,
            "grid_template_columns": null,
            "flex": null,
            "_model_name": "LayoutModel",
            "justify_items": null,
            "grid_row": null,
            "max_height": null,
            "align_content": null,
            "visibility": null,
            "align_self": null,
            "height": null,
            "min_height": null,
            "padding": null,
            "grid_auto_rows": null,
            "grid_gap": null,
            "max_width": null,
            "order": null,
            "_view_module_version": "1.2.0",
            "grid_template_areas": null,
            "object_position": null,
            "object_fit": null,
            "grid_auto_columns": null,
            "margin": null,
            "display": null,
            "left": null
          }
        },
        "3035be15936043259f9f61461312c3b1": {
          "model_module": "@jupyter-widgets/controls",
          "model_name": "FloatProgressModel",
          "state": {
            "_view_name": "ProgressView",
            "style": "IPY_MODEL_d99178bd5d3842c580e7889bcefe07db",
            "_dom_classes": [],
            "description": "100%",
            "_model_name": "FloatProgressModel",
            "bar_style": "success",
            "max": 707989,
            "_view_module": "@jupyter-widgets/controls",
            "_model_module_version": "1.5.0",
            "value": 707989,
            "_view_count": null,
            "_view_module_version": "1.5.0",
            "orientation": "horizontal",
            "min": 0,
            "description_tooltip": null,
            "_model_module": "@jupyter-widgets/controls",
            "layout": "IPY_MODEL_28513ac2eaa348c89d9e4120f2a7c9d2"
          }
        },
        "0f580e77793b43f991056a9231bfe784": {
          "model_module": "@jupyter-widgets/controls",
          "model_name": "HTMLModel",
          "state": {
            "_view_name": "HTMLView",
            "style": "IPY_MODEL_0844c68419814533b41c12240b796385",
            "_dom_classes": [],
            "description": "",
            "_model_name": "HTMLModel",
            "placeholder": "​",
            "_view_module": "@jupyter-widgets/controls",
            "_model_module_version": "1.5.0",
            "value": " 707989/707989 [00:10&lt;00:00, 69202.09it/s]",
            "_view_count": null,
            "_view_module_version": "1.5.0",
            "description_tooltip": null,
            "_model_module": "@jupyter-widgets/controls",
            "layout": "IPY_MODEL_5e8e2a7998b643559d95e8a0f1e74c0e"
          }
        },
        "d99178bd5d3842c580e7889bcefe07db": {
          "model_module": "@jupyter-widgets/controls",
          "model_name": "ProgressStyleModel",
          "state": {
            "_view_name": "StyleView",
            "_model_name": "ProgressStyleModel",
            "description_width": "initial",
            "_view_module": "@jupyter-widgets/base",
            "_model_module_version": "1.5.0",
            "_view_count": null,
            "_view_module_version": "1.2.0",
            "bar_color": null,
            "_model_module": "@jupyter-widgets/controls"
          }
        },
        "28513ac2eaa348c89d9e4120f2a7c9d2": {
          "model_module": "@jupyter-widgets/base",
          "model_name": "LayoutModel",
          "state": {
            "_view_name": "LayoutView",
            "grid_template_rows": null,
            "right": null,
            "justify_content": null,
            "_view_module": "@jupyter-widgets/base",
            "overflow": null,
            "_model_module_version": "1.2.0",
            "_view_count": null,
            "flex_flow": null,
            "width": null,
            "min_width": null,
            "border": null,
            "align_items": null,
            "bottom": null,
            "_model_module": "@jupyter-widgets/base",
            "top": null,
            "grid_column": null,
            "overflow_y": null,
            "overflow_x": null,
            "grid_auto_flow": null,
            "grid_area": null,
            "grid_template_columns": null,
            "flex": null,
            "_model_name": "LayoutModel",
            "justify_items": null,
            "grid_row": null,
            "max_height": null,
            "align_content": null,
            "visibility": null,
            "align_self": null,
            "height": null,
            "min_height": null,
            "padding": null,
            "grid_auto_rows": null,
            "grid_gap": null,
            "max_width": null,
            "order": null,
            "_view_module_version": "1.2.0",
            "grid_template_areas": null,
            "object_position": null,
            "object_fit": null,
            "grid_auto_columns": null,
            "margin": null,
            "display": null,
            "left": null
          }
        },
        "0844c68419814533b41c12240b796385": {
          "model_module": "@jupyter-widgets/controls",
          "model_name": "DescriptionStyleModel",
          "state": {
            "_view_name": "StyleView",
            "_model_name": "DescriptionStyleModel",
            "description_width": "",
            "_view_module": "@jupyter-widgets/base",
            "_model_module_version": "1.5.0",
            "_view_count": null,
            "_view_module_version": "1.2.0",
            "_model_module": "@jupyter-widgets/controls"
          }
        },
        "5e8e2a7998b643559d95e8a0f1e74c0e": {
          "model_module": "@jupyter-widgets/base",
          "model_name": "LayoutModel",
          "state": {
            "_view_name": "LayoutView",
            "grid_template_rows": null,
            "right": null,
            "justify_content": null,
            "_view_module": "@jupyter-widgets/base",
            "overflow": null,
            "_model_module_version": "1.2.0",
            "_view_count": null,
            "flex_flow": null,
            "width": null,
            "min_width": null,
            "border": null,
            "align_items": null,
            "bottom": null,
            "_model_module": "@jupyter-widgets/base",
            "top": null,
            "grid_column": null,
            "overflow_y": null,
            "overflow_x": null,
            "grid_auto_flow": null,
            "grid_area": null,
            "grid_template_columns": null,
            "flex": null,
            "_model_name": "LayoutModel",
            "justify_items": null,
            "grid_row": null,
            "max_height": null,
            "align_content": null,
            "visibility": null,
            "align_self": null,
            "height": null,
            "min_height": null,
            "padding": null,
            "grid_auto_rows": null,
            "grid_gap": null,
            "max_width": null,
            "order": null,
            "_view_module_version": "1.2.0",
            "grid_template_areas": null,
            "object_position": null,
            "object_fit": null,
            "grid_auto_columns": null,
            "margin": null,
            "display": null,
            "left": null
          }
        }
      }
    }
  },
  "cells": [
    {
      "cell_type": "markdown",
      "metadata": {
        "id": "view-in-github",
        "colab_type": "text"
      },
      "source": [
        "<a href=\"https://colab.research.google.com/github/ivoryRabbit/kakao_arena/blob/master/2_Preprocessing(1).ipynb\" target=\"_parent\"><img src=\"https://colab.research.google.com/assets/colab-badge.svg\" alt=\"Open In Colab\"/></a>"
      ]
    },
    {
      "cell_type": "code",
      "metadata": {
        "id": "Jey4aJZtUxHH",
        "colab": {
          "base_uri": "https://localhost:8080/",
          "height": 71
        },
        "outputId": "82f05ff3-be96-4add-fc4f-364134860fe5"
      },
      "source": [
        "import os, sys\n",
        "from google.colab import drive\n",
        "drive.mount('/content/drive')\n",
        "\n",
        "my_path = '/content/notebooks'\n",
        "try: os.symlink('/content/drive/My Drive/Colab Notebooks/my_env', my_path)\n",
        "except: print('\\nAlready linked...')\n",
        "sys.path.insert(0, my_path)"
      ],
      "execution_count": null,
      "outputs": [
        {
          "output_type": "stream",
          "text": [
            "Drive already mounted at /content/drive; to attempt to forcibly remount, call drive.mount(\"/content/drive\", force_remount=True).\n",
            "\n",
            "Already linked...\n"
          ],
          "name": "stdout"
        }
      ]
    },
    {
      "cell_type": "code",
      "metadata": {
        "id": "yqgLNiE1U2bl"
      },
      "source": [
        "import re, glob, copy\n",
        "import json\n",
        "import numpy as np\n",
        "import pandas as pd\n",
        "from tqdm.notebook import tqdm\n",
        "\n",
        "from khaiii import KhaiiiApi\n",
        "import sentencepiece as spm"
      ],
      "execution_count": null,
      "outputs": []
    },
    {
      "cell_type": "code",
      "metadata": {
        "id": "wb_iZEIqVHZp",
        "colab": {
          "base_uri": "https://localhost:8080/",
          "height": 269
        },
        "outputId": "5760fd77-1aeb-4647-8a7f-a796004c35a4"
      },
      "source": [
        "display(glob.glob('drive/My Drive/kakao_arena/data/*'))\n",
        "base_path = 'drive/My Drive/kakao_arena/'"
      ],
      "execution_count": null,
      "outputs": [
        {
          "output_type": "display_data",
          "data": {
            "text/plain": [
              "['drive/My Drive/kakao_arena/data/val.json',\n",
              " 'drive/My Drive/kakao_arena/data/test.json',\n",
              " 'drive/My Drive/kakao_arena/data/genre_gn_all.json',\n",
              " 'drive/My Drive/kakao_arena/data/train.json',\n",
              " 'drive/My Drive/kakao_arena/data/song_meta.json',\n",
              " 'drive/My Drive/kakao_arena/data/genre_v1.json',\n",
              " 'drive/My Drive/kakao_arena/data/test_v1.json',\n",
              " 'drive/My Drive/kakao_arena/data/val_v1.json',\n",
              " 'drive/My Drive/kakao_arena/data/train_v1.json',\n",
              " 'drive/My Drive/kakao_arena/data/song_meta_v1.json',\n",
              " 'drive/My Drive/kakao_arena/data/val_v2.json',\n",
              " 'drive/My Drive/kakao_arena/data/test_v2.json',\n",
              " 'drive/My Drive/kakao_arena/data/train_v2.json',\n",
              " 'drive/My Drive/kakao_arena/data/song_meta_v2.json']"
            ]
          },
          "metadata": {
            "tags": []
          }
        }
      ]
    },
    {
      "cell_type": "code",
      "metadata": {
        "id": "W66b1ztjVMYX"
      },
      "source": [
        "train = pd.read_json(base_path + 'data/train.json')\n",
        "valid = pd.read_json(base_path + 'data/val.json')\n",
        "test = pd.read_json(base_path + 'data/test.json')\n",
        "genre = pd.read_json(base_path + 'data/genre_gn_all.json', typ = 'series')\n",
        "genre = pd.DataFrame(genre, columns = ['gnr_name']).reset_index().rename(columns = {'index' : 'gnr_code'})\n",
        "song_meta = pd.read_json(base_path + 'data/song_meta.json', typ = 'frame')"
      ],
      "execution_count": null,
      "outputs": []
    },
    {
      "cell_type": "markdown",
      "metadata": {
        "id": "6KCx7QI2AZY5"
      },
      "source": [
        "### 1.1 플레이리스트 업데이트 날짜 전처리"
      ]
    },
    {
      "cell_type": "code",
      "metadata": {
        "id": "vW2rfeCGAZRK"
      },
      "source": [
        "def date_format(df):\n",
        "  return df.assign(updt_date = lambda x: pd.to_datetime(x.updt_date).dt.strftime('%Y%m%d').astype(int))"
      ],
      "execution_count": null,
      "outputs": []
    },
    {
      "cell_type": "code",
      "metadata": {
        "id": "x7YM03xHAlXJ"
      },
      "source": [
        "train, valid, test = map(date_format, (train, valid, test))"
      ],
      "execution_count": null,
      "outputs": []
    },
    {
      "cell_type": "code",
      "metadata": {
        "id": "o_723BGlArEi",
        "colab": {
          "base_uri": "https://localhost:8080/",
          "height": 142
        },
        "outputId": "a9b6d453-c082-44c5-af9e-0c6a8866102d"
      },
      "source": [
        "train.head(3)"
      ],
      "execution_count": null,
      "outputs": [
        {
          "output_type": "execute_result",
          "data": {
            "text/html": [
              "<div>\n",
              "<style scoped>\n",
              "    .dataframe tbody tr th:only-of-type {\n",
              "        vertical-align: middle;\n",
              "    }\n",
              "\n",
              "    .dataframe tbody tr th {\n",
              "        vertical-align: top;\n",
              "    }\n",
              "\n",
              "    .dataframe thead th {\n",
              "        text-align: right;\n",
              "    }\n",
              "</style>\n",
              "<table border=\"1\" class=\"dataframe\">\n",
              "  <thead>\n",
              "    <tr style=\"text-align: right;\">\n",
              "      <th></th>\n",
              "      <th>tags</th>\n",
              "      <th>id</th>\n",
              "      <th>plylst_title</th>\n",
              "      <th>songs</th>\n",
              "      <th>like_cnt</th>\n",
              "      <th>updt_date</th>\n",
              "    </tr>\n",
              "  </thead>\n",
              "  <tbody>\n",
              "    <tr>\n",
              "      <th>0</th>\n",
              "      <td>[락]</td>\n",
              "      <td>61281</td>\n",
              "      <td>여행같은 음악</td>\n",
              "      <td>[525514, 129701, 383374, 562083, 297861, 13954...</td>\n",
              "      <td>71</td>\n",
              "      <td>20131219</td>\n",
              "    </tr>\n",
              "    <tr>\n",
              "      <th>1</th>\n",
              "      <td>[추억, 회상]</td>\n",
              "      <td>10532</td>\n",
              "      <td>요즘 너 말야</td>\n",
              "      <td>[432406, 675945, 497066, 120377, 389529, 24427...</td>\n",
              "      <td>1</td>\n",
              "      <td>20141202</td>\n",
              "    </tr>\n",
              "    <tr>\n",
              "      <th>2</th>\n",
              "      <td>[까페, 잔잔한]</td>\n",
              "      <td>76951</td>\n",
              "      <td>편하게, 잔잔하게 들을 수 있는 곡.-</td>\n",
              "      <td>[83116, 276692, 166267, 186301, 354465, 256598...</td>\n",
              "      <td>17</td>\n",
              "      <td>20170828</td>\n",
              "    </tr>\n",
              "  </tbody>\n",
              "</table>\n",
              "</div>"
            ],
            "text/plain": [
              "        tags     id  ... like_cnt updt_date\n",
              "0        [락]  61281  ...       71  20131219\n",
              "1   [추억, 회상]  10532  ...        1  20141202\n",
              "2  [까페, 잔잔한]  76951  ...       17  20170828\n",
              "\n",
              "[3 rows x 6 columns]"
            ]
          },
          "metadata": {
            "tags": []
          },
          "execution_count": 7
        }
      ]
    },
    {
      "cell_type": "markdown",
      "metadata": {
        "id": "TT4mUQktprD0"
      },
      "source": [
        "### 1.2 플레이리스트 자연어 처리"
      ]
    },
    {
      "cell_type": "code",
      "metadata": {
        "id": "_0PlIH-rpuXI"
      },
      "source": [
        "def word_ppc(s):\n",
        "  if s is None:\n",
        "    return None\n",
        "  s = s.str.lower() # 영어 소문자로\n",
        "  s = s.str.replace(pat = r'[ㄱ-ㅎ]', repl = r' ', regex = True) # 단자음 제거\n",
        "  s = s.str.replace(pat = r'[^\\w\\s]', repl = r' ', regex = True) # 특수문자 제거\n",
        "  s = s.str.replace(pat = r'[_]', repl = r' ', regex = True) # 언더바 제거\n",
        "  s = s.str.replace(pat = r'[ ]{2,}', repl = r' ', regex = True) # 공백 제거\n",
        "  s = s.str.strip()\n",
        "  return s"
      ],
      "execution_count": null,
      "outputs": []
    },
    {
      "cell_type": "code",
      "metadata": {
        "id": "tV_rlVgnvDsT",
        "colab": {
          "base_uri": "https://localhost:8080/",
          "height": 142
        },
        "outputId": "b16317d4-6533-4f85-b336-1dd4dd0dfc24"
      },
      "source": [
        "train, valid, test = map(lambda df: df.assign(plylst_title = lambda x: word_ppc(x.plylst_title)), (train, valid, test))\n",
        "train.head(3)"
      ],
      "execution_count": null,
      "outputs": [
        {
          "output_type": "execute_result",
          "data": {
            "text/html": [
              "<div>\n",
              "<style scoped>\n",
              "    .dataframe tbody tr th:only-of-type {\n",
              "        vertical-align: middle;\n",
              "    }\n",
              "\n",
              "    .dataframe tbody tr th {\n",
              "        vertical-align: top;\n",
              "    }\n",
              "\n",
              "    .dataframe thead th {\n",
              "        text-align: right;\n",
              "    }\n",
              "</style>\n",
              "<table border=\"1\" class=\"dataframe\">\n",
              "  <thead>\n",
              "    <tr style=\"text-align: right;\">\n",
              "      <th></th>\n",
              "      <th>tags</th>\n",
              "      <th>id</th>\n",
              "      <th>plylst_title</th>\n",
              "      <th>songs</th>\n",
              "      <th>like_cnt</th>\n",
              "      <th>updt_date</th>\n",
              "    </tr>\n",
              "  </thead>\n",
              "  <tbody>\n",
              "    <tr>\n",
              "      <th>0</th>\n",
              "      <td>[락]</td>\n",
              "      <td>61281</td>\n",
              "      <td>여행같은 음악</td>\n",
              "      <td>[525514, 129701, 383374, 562083, 297861, 13954...</td>\n",
              "      <td>71</td>\n",
              "      <td>20131219</td>\n",
              "    </tr>\n",
              "    <tr>\n",
              "      <th>1</th>\n",
              "      <td>[추억, 회상]</td>\n",
              "      <td>10532</td>\n",
              "      <td>요즘 너 말야</td>\n",
              "      <td>[432406, 675945, 497066, 120377, 389529, 24427...</td>\n",
              "      <td>1</td>\n",
              "      <td>20141202</td>\n",
              "    </tr>\n",
              "    <tr>\n",
              "      <th>2</th>\n",
              "      <td>[까페, 잔잔한]</td>\n",
              "      <td>76951</td>\n",
              "      <td>편하게 잔잔하게 들을 수 있는 곡</td>\n",
              "      <td>[83116, 276692, 166267, 186301, 354465, 256598...</td>\n",
              "      <td>17</td>\n",
              "      <td>20170828</td>\n",
              "    </tr>\n",
              "  </tbody>\n",
              "</table>\n",
              "</div>"
            ],
            "text/plain": [
              "        tags     id  ... like_cnt updt_date\n",
              "0        [락]  61281  ...       71  20131219\n",
              "1   [추억, 회상]  10532  ...        1  20141202\n",
              "2  [까페, 잔잔한]  76951  ...       17  20170828\n",
              "\n",
              "[3 rows x 6 columns]"
            ]
          },
          "metadata": {
            "tags": []
          },
          "execution_count": 9
        }
      ]
    },
    {
      "cell_type": "code",
      "metadata": {
        "id": "LGNW1Hj9-WiC"
      },
      "source": [
        "train.to_json('drive/My Drive/kakao_arena/data/train_v1.json', orient = 'records', force_ascii = False)\n",
        "valid.to_json('drive/My Drive/kakao_arena/data/val_v1.json', orient = 'records', force_ascii = False)\n",
        "test.to_json('drive/My Drive/kakao_arena/data/test_v1.json', orient = 'records', force_ascii = False)"
      ],
      "execution_count": null,
      "outputs": []
    },
    {
      "cell_type": "markdown",
      "metadata": {
        "id": "ATjwVPjyAybk"
      },
      "source": [
        "### 2.1 장르 국내/국외"
      ]
    },
    {
      "cell_type": "code",
      "metadata": {
        "id": "ucvFWNJwhjyb"
      },
      "source": [
        "def add_oversea(df):\n",
        "  def is_oversea(df):\n",
        "    if df.gnr_code[2:4] in ['01', '02', '03', '04', '05', '06', '07', '08', '24', '25', '26']: return '국내'\n",
        "    elif df.gnr_code[2:4] in ['09', '10', '11', '12', '13', '14', '19', '20']: return '국외'\n",
        "    if '국내' in df.gnr_name: return '국내'\n",
        "    elif '국외' in df.gnr_name: return '국외'\n",
        "    return ''\n",
        "  return df.assign(gnr_group = lambda x: x.apply(is_oversea, axis = 1))\n",
        "\n",
        "def remove_oversea(df):\n",
        "  return df.assign(gnr_name = lambda x: x.gnr_name.str.replace('국내|국외', ''))"
      ],
      "execution_count": null,
      "outputs": []
    },
    {
      "cell_type": "code",
      "metadata": {
        "id": "gJ_DM1lGtT4M"
      },
      "source": [
        "genre = add_oversea(genre)\n",
        "genre = remove_oversea(genre)"
      ],
      "execution_count": null,
      "outputs": []
    },
    {
      "cell_type": "markdown",
      "metadata": {
        "id": "smnP6wwMoP60"
      },
      "source": [
        "### 2.2 장르 자연어 처리"
      ]
    },
    {
      "cell_type": "code",
      "metadata": {
        "id": "xw4yIWT6tea0"
      },
      "source": [
        "def gnr_ppc(df):\n",
        "    df['gnr_name'] = df.gnr_name.str.lower().str.replace(pat = r\"[/|'|-]\", repl = r' ', regex = True)\n",
        "\n",
        "    name_repl_idx = df[df.gnr_name == '세부장르전체'].index\n",
        "    name_repl_to = df.loc[name_repl_idx - 1, 'gnr_name'].values\n",
        "    df.loc[name_repl_idx, 'gnr_name'] = name_repl_to\n",
        "\n",
        "    df['gnr_name'] = df.gnr_name.str.replace('pop', '팝')\n",
        "    df['gnr_name'] = df.gnr_name.str.replace('newage', '뉴에이지')\n",
        "    df['gnr_name'] = df.gnr_name.str.replace('jazz', '재즈')\n",
        "    df['gnr_name'] = df.gnr_name.str.replace('릴렉싱&힐링', '릴렉싱 힐링')\n",
        "\n",
        "    for gnr in ['동요', '동화', '팝', '록', '메탈', '랩', '트로트', '가요', '재즈', '클래식', '힙합']:\n",
        "        df['gnr_name'] = df.gnr_name.str.replace(gnr, ' ' + gnr + ' ')\n",
        "    for gnr in ['50', '60', '70', '80', '90', '00', '10']:\n",
        "        df['gnr_name'] = df.gnr_name.str.replace(gnr, gnr + '년대')\n",
        "    df['gnr_name'] = df.gnr_name.str.strip()\n",
        "    return df\n",
        "\n",
        "def gnr_tokenizing(df):\n",
        "    genre_names = df.gnr_name.to_list()\n",
        "    with open('genre_names.txt', 'w', encoding = 'utf-8') as f:\n",
        "        for name in genre_names:\n",
        "            f.write(name + '\\n')\n",
        "    spm.SentencePieceTrainer.Train('--input=genre_names.txt --model_prefix=genre --vocab_size=150 --model_type=word')\n",
        "    spp = spm.SentencePieceProcessor(model_file = 'genre.model')\n",
        "    tokens = [spp.EncodeAsPieces(name) for name in tqdm(genre_names)]\n",
        "    df['gnr_basket'] = [[w.replace('▁', '') for w in token] for token in tokens]\n",
        "    return df"
      ],
      "execution_count": null,
      "outputs": []
    },
    {
      "cell_type": "code",
      "metadata": {
        "id": "F_NynTrgoVi_",
        "colab": {
          "base_uri": "https://localhost:8080/",
          "height": 192,
          "referenced_widgets": [
            "f43be3ab528c43d99613a885fee2abc0",
            "dc6e80b02df240f8be9618ff55998054",
            "dab07519040b462e865968fd46066d4c",
            "e0afa27598674501b6ae2b742ec86c90",
            "0643ce38d5964faa84987e099ff491b1",
            "9339c86719ad4cc690f2d15789f18d78",
            "de39bae86dea4872aabd40f874364dd1",
            "6bfad8f6b2604abba754cb2b25232678"
          ]
        },
        "outputId": "32465b32-3d1d-4fa6-b3cc-b7168dc8bb4c"
      },
      "source": [
        "genre = gnr_ppc(genre)\n",
        "genre = gnr_tokenizing(genre)\n",
        "genre = genre.assign(gnr_basket = lambda x: x.apply(lambda y: y.gnr_basket + [y.gnr_group] if y.gnr_group != '' else y.gnr_basket, axis = 1))\n",
        "genre.head(3)"
      ],
      "execution_count": null,
      "outputs": [
        {
          "output_type": "display_data",
          "data": {
            "application/vnd.jupyter.widget-view+json": {
              "model_id": "f43be3ab528c43d99613a885fee2abc0",
              "version_minor": 0,
              "version_major": 2
            },
            "text/plain": [
              "HBox(children=(FloatProgress(value=0.0, max=254.0), HTML(value='')))"
            ]
          },
          "metadata": {
            "tags": []
          }
        },
        {
          "output_type": "stream",
          "text": [
            "\n"
          ],
          "name": "stdout"
        },
        {
          "output_type": "execute_result",
          "data": {
            "text/html": [
              "<div>\n",
              "<style scoped>\n",
              "    .dataframe tbody tr th:only-of-type {\n",
              "        vertical-align: middle;\n",
              "    }\n",
              "\n",
              "    .dataframe tbody tr th {\n",
              "        vertical-align: top;\n",
              "    }\n",
              "\n",
              "    .dataframe thead th {\n",
              "        text-align: right;\n",
              "    }\n",
              "</style>\n",
              "<table border=\"1\" class=\"dataframe\">\n",
              "  <thead>\n",
              "    <tr style=\"text-align: right;\">\n",
              "      <th></th>\n",
              "      <th>gnr_code</th>\n",
              "      <th>gnr_name</th>\n",
              "      <th>gnr_group</th>\n",
              "      <th>gnr_basket</th>\n",
              "    </tr>\n",
              "  </thead>\n",
              "  <tbody>\n",
              "    <tr>\n",
              "      <th>0</th>\n",
              "      <td>GN0100</td>\n",
              "      <td>발라드</td>\n",
              "      <td>국내</td>\n",
              "      <td>[발라드, 국내]</td>\n",
              "    </tr>\n",
              "    <tr>\n",
              "      <th>1</th>\n",
              "      <td>GN0101</td>\n",
              "      <td>발라드</td>\n",
              "      <td>국내</td>\n",
              "      <td>[발라드, 국내]</td>\n",
              "    </tr>\n",
              "    <tr>\n",
              "      <th>2</th>\n",
              "      <td>GN0102</td>\n",
              "      <td>80년대</td>\n",
              "      <td>국내</td>\n",
              "      <td>[80년대, 국내]</td>\n",
              "    </tr>\n",
              "  </tbody>\n",
              "</table>\n",
              "</div>"
            ],
            "text/plain": [
              "  gnr_code gnr_name gnr_group  gnr_basket\n",
              "0   GN0100      발라드        국내   [발라드, 국내]\n",
              "1   GN0101      발라드        국내   [발라드, 국내]\n",
              "2   GN0102     80년대        국내  [80년대, 국내]"
            ]
          },
          "metadata": {
            "tags": []
          },
          "execution_count": 15
        }
      ]
    },
    {
      "cell_type": "code",
      "metadata": {
        "id": "Pjyk0HJ6_CGa"
      },
      "source": [
        "genre.to_json('drive/My Drive/kakao_arena/data/genre_v1.json', orient = 'records', force_ascii = False)"
      ],
      "execution_count": null,
      "outputs": []
    },
    {
      "cell_type": "markdown",
      "metadata": {
        "id": "3dJwpR3CVdZG"
      },
      "source": [
        "### 3.1 곡 메타데이터 날짜 전처리\n",
        "\n",
        "- 곡 발매 일자보다 플레이리스트 업데이트 일자가 빠른 경우\n",
        "- 곡 발매 일자가 0인 경우\n",
        "- 전처리 후에도 곡 발매 일자가 여전히 0인 경우가 있는데, 이들 모두 플레이리스트에 등장하지 않는 곡들이므로 더이상 고려하지 않음"
      ]
    },
    {
      "cell_type": "code",
      "metadata": {
        "id": "K6P42InSK7wP"
      },
      "source": [
        "song_meta = pd.read_json(base_path + 'data/song_meta.json', typ = 'frame')"
      ],
      "execution_count": null,
      "outputs": []
    },
    {
      "cell_type": "code",
      "metadata": {
        "id": "JKOloNgmHx74"
      },
      "source": [
        "def replace_date(df):\n",
        "  song_updt_date = train[['songs', 'updt_date']].explode('songs').groupby('songs')['updt_date'].agg('min')\n",
        "  anormal_date_idx = df.join(song_updt_date).query('issue_date > updt_date | issue_date == 0').dropna().index\n",
        "  df.loc[anormal_date_idx, 'issue_date'] = song_updt_date.loc[anormal_date_idx]\n",
        "\n",
        "  album_date = df.groupby('album_id')['issue_date'].agg(lambda x: 0 if max(x) == 0 else min([y for y in x if y != 0]))\n",
        "  album_date_dic = album_date.to_dict()\n",
        "  df['issue_date'] = df.album_id.map(album_date_dic)\n",
        "  df.loc[df.issue_date < 19400000, 'issue_date'] = 19400000\n",
        "  return df"
      ],
      "execution_count": null,
      "outputs": []
    },
    {
      "cell_type": "code",
      "metadata": {
        "id": "7dM1WiKkPp55",
        "colab": {
          "base_uri": "https://localhost:8080/",
          "height": 176
        },
        "outputId": "2b27a945-9afb-4d45-b8fe-a793534d8467"
      },
      "source": [
        "song_meta = replace_date(song_meta)\n",
        "song_meta.head(3)"
      ],
      "execution_count": null,
      "outputs": [
        {
          "output_type": "execute_result",
          "data": {
            "text/html": [
              "<div>\n",
              "<style scoped>\n",
              "    .dataframe tbody tr th:only-of-type {\n",
              "        vertical-align: middle;\n",
              "    }\n",
              "\n",
              "    .dataframe tbody tr th {\n",
              "        vertical-align: top;\n",
              "    }\n",
              "\n",
              "    .dataframe thead th {\n",
              "        text-align: right;\n",
              "    }\n",
              "</style>\n",
              "<table border=\"1\" class=\"dataframe\">\n",
              "  <thead>\n",
              "    <tr style=\"text-align: right;\">\n",
              "      <th></th>\n",
              "      <th>song_gn_dtl_gnr_basket</th>\n",
              "      <th>issue_date</th>\n",
              "      <th>album_name</th>\n",
              "      <th>album_id</th>\n",
              "      <th>artist_id_basket</th>\n",
              "      <th>song_name</th>\n",
              "      <th>song_gn_gnr_basket</th>\n",
              "      <th>artist_name_basket</th>\n",
              "      <th>id</th>\n",
              "    </tr>\n",
              "  </thead>\n",
              "  <tbody>\n",
              "    <tr>\n",
              "      <th>0</th>\n",
              "      <td>[GN0901]</td>\n",
              "      <td>20140512</td>\n",
              "      <td>불후의 명곡 - 7080 추억의 얄개시대 팝송베스트</td>\n",
              "      <td>2255639</td>\n",
              "      <td>[2727]</td>\n",
              "      <td>Feelings</td>\n",
              "      <td>[GN0900]</td>\n",
              "      <td>[Various Artists]</td>\n",
              "      <td>0</td>\n",
              "    </tr>\n",
              "    <tr>\n",
              "      <th>1</th>\n",
              "      <td>[GN1601, GN1606]</td>\n",
              "      <td>20080421</td>\n",
              "      <td>Bach : Partitas Nos. 2, 3 &amp; 4</td>\n",
              "      <td>376431</td>\n",
              "      <td>[29966]</td>\n",
              "      <td>Bach : Partita No. 4 In D Major, BWV 828 - II....</td>\n",
              "      <td>[GN1600]</td>\n",
              "      <td>[Murray Perahia]</td>\n",
              "      <td>1</td>\n",
              "    </tr>\n",
              "    <tr>\n",
              "      <th>2</th>\n",
              "      <td>[GN0901]</td>\n",
              "      <td>20180518</td>\n",
              "      <td>Hit</td>\n",
              "      <td>4698747</td>\n",
              "      <td>[3361]</td>\n",
              "      <td>Solsbury Hill (Remastered 2002)</td>\n",
              "      <td>[GN0900]</td>\n",
              "      <td>[Peter Gabriel]</td>\n",
              "      <td>2</td>\n",
              "    </tr>\n",
              "  </tbody>\n",
              "</table>\n",
              "</div>"
            ],
            "text/plain": [
              "  song_gn_dtl_gnr_basket  issue_date  ... artist_name_basket  id\n",
              "0               [GN0901]    20140512  ...  [Various Artists]   0\n",
              "1       [GN1601, GN1606]    20080421  ...   [Murray Perahia]   1\n",
              "2               [GN0901]    20180518  ...    [Peter Gabriel]   2\n",
              "\n",
              "[3 rows x 9 columns]"
            ]
          },
          "metadata": {
            "tags": []
          },
          "execution_count": 19
        }
      ]
    },
    {
      "cell_type": "markdown",
      "metadata": {
        "id": "17L1oZmPc3BS"
      },
      "source": [
        "### 3.2 곡 메타데이터 장르 전처리\n",
        "\n",
        "- song_gn_gnr_basket에서 비정상적인 코드 식별\n",
        "  - 코드: GN9000\n",
        "  - 특징: \n",
        "    - 다른 장르코드와 함께 있지는 않음\n",
        "    - 다양한 장르의 곡에 걸쳐서 나타남\n",
        "- song_gn_dtl_gnr_basket에는 문제 없음"
      ]
    },
    {
      "cell_type": "code",
      "metadata": {
        "id": "2SRomegWiQ8K",
        "colab": {
          "base_uri": "https://localhost:8080/",
          "height": 35
        },
        "outputId": "39d455d4-b463-45d2-814c-260927935f5b"
      },
      "source": [
        "genre_in_meta = song_meta.song_gn_gnr_basket.explode().unique()\n",
        "genre_in_meta[~np.isin(genre_in_meta, genre.gnr_code.values)]"
      ],
      "execution_count": null,
      "outputs": [
        {
          "output_type": "execute_result",
          "data": {
            "text/plain": [
              "array([nan, 'GN9000'], dtype=object)"
            ]
          },
          "metadata": {
            "tags": []
          },
          "execution_count": 20
        }
      ]
    },
    {
      "cell_type": "code",
      "metadata": {
        "id": "5G9poUxbid1X",
        "colab": {
          "base_uri": "https://localhost:8080/",
          "height": 159
        },
        "outputId": "d6594e1d-c2b4-4328-f7bd-f066febc7f75"
      },
      "source": [
        "anormal_gnr_idx = song_meta[song_meta.song_gn_gnr_basket.astype('str').str.contains('GN9000')].index\n",
        "song_meta.loc[anormal_gnr_idx].head(3)"
      ],
      "execution_count": null,
      "outputs": [
        {
          "output_type": "execute_result",
          "data": {
            "text/html": [
              "<div>\n",
              "<style scoped>\n",
              "    .dataframe tbody tr th:only-of-type {\n",
              "        vertical-align: middle;\n",
              "    }\n",
              "\n",
              "    .dataframe tbody tr th {\n",
              "        vertical-align: top;\n",
              "    }\n",
              "\n",
              "    .dataframe thead th {\n",
              "        text-align: right;\n",
              "    }\n",
              "</style>\n",
              "<table border=\"1\" class=\"dataframe\">\n",
              "  <thead>\n",
              "    <tr style=\"text-align: right;\">\n",
              "      <th></th>\n",
              "      <th>song_gn_dtl_gnr_basket</th>\n",
              "      <th>issue_date</th>\n",
              "      <th>album_name</th>\n",
              "      <th>album_id</th>\n",
              "      <th>artist_id_basket</th>\n",
              "      <th>song_name</th>\n",
              "      <th>song_gn_gnr_basket</th>\n",
              "      <th>artist_name_basket</th>\n",
              "      <th>id</th>\n",
              "    </tr>\n",
              "  </thead>\n",
              "  <tbody>\n",
              "    <tr>\n",
              "      <th>262</th>\n",
              "      <td>[]</td>\n",
              "      <td>20150318</td>\n",
              "      <td>노년의 건강을 지켜주는 음악 처방전 (부제 : 휴식 때 들으면 좋은 음악친구)</td>\n",
              "      <td>2309524</td>\n",
              "      <td>[726909]</td>\n",
              "      <td>Bio Sound `Breathing &amp; Big Bell`</td>\n",
              "      <td>[GN9000]</td>\n",
              "      <td>[차병원]</td>\n",
              "      <td>262</td>\n",
              "    </tr>\n",
              "    <tr>\n",
              "      <th>916</th>\n",
              "      <td>[]</td>\n",
              "      <td>20170825</td>\n",
              "      <td>크리스마스의 기적</td>\n",
              "      <td>10090652</td>\n",
              "      <td>[750416]</td>\n",
              "      <td>Springtime In December</td>\n",
              "      <td>[GN9000]</td>\n",
              "      <td>[Larry Warren]</td>\n",
              "      <td>916</td>\n",
              "    </tr>\n",
              "    <tr>\n",
              "      <th>1074</th>\n",
              "      <td>[]</td>\n",
              "      <td>20131128</td>\n",
              "      <td>Open It Up</td>\n",
              "      <td>10008901</td>\n",
              "      <td>[1221466]</td>\n",
              "      <td>Open It Up</td>\n",
              "      <td>[GN9000]</td>\n",
              "      <td>[Tchengiz]</td>\n",
              "      <td>1074</td>\n",
              "    </tr>\n",
              "  </tbody>\n",
              "</table>\n",
              "</div>"
            ],
            "text/plain": [
              "     song_gn_dtl_gnr_basket  issue_date  ... artist_name_basket    id\n",
              "262                      []    20150318  ...              [차병원]   262\n",
              "916                      []    20170825  ...     [Larry Warren]   916\n",
              "1074                     []    20131128  ...         [Tchengiz]  1074\n",
              "\n",
              "[3 rows x 9 columns]"
            ]
          },
          "metadata": {
            "tags": []
          },
          "execution_count": 21
        }
      ]
    },
    {
      "cell_type": "code",
      "metadata": {
        "id": "2SlsViaXilLW",
        "colab": {
          "base_uri": "https://localhost:8080/",
          "height": 177
        },
        "outputId": "50a37bca-e2eb-45b4-fbde-999a4f51b34b"
      },
      "source": [
        "song_meta.loc[anormal_gnr_idx, 'song_gn_gnr_basket'] = song_meta.loc[anormal_gnr_idx, 'song_gn_gnr_basket'].apply(lambda x: [])\n",
        "\n",
        "empty_gnr_idx = song_meta[song_meta.song_gn_gnr_basket.apply(len) == 0].index\n",
        "empty_gnr = song_meta.loc[empty_gnr_idx]\n",
        "\n",
        "print(empty_gnr.shape)\n",
        "empty_gnr.head(3)"
      ],
      "execution_count": null,
      "outputs": [
        {
          "output_type": "stream",
          "text": [
            "(2893, 9)\n"
          ],
          "name": "stdout"
        },
        {
          "output_type": "execute_result",
          "data": {
            "text/html": [
              "<div>\n",
              "<style scoped>\n",
              "    .dataframe tbody tr th:only-of-type {\n",
              "        vertical-align: middle;\n",
              "    }\n",
              "\n",
              "    .dataframe tbody tr th {\n",
              "        vertical-align: top;\n",
              "    }\n",
              "\n",
              "    .dataframe thead th {\n",
              "        text-align: right;\n",
              "    }\n",
              "</style>\n",
              "<table border=\"1\" class=\"dataframe\">\n",
              "  <thead>\n",
              "    <tr style=\"text-align: right;\">\n",
              "      <th></th>\n",
              "      <th>song_gn_dtl_gnr_basket</th>\n",
              "      <th>issue_date</th>\n",
              "      <th>album_name</th>\n",
              "      <th>album_id</th>\n",
              "      <th>artist_id_basket</th>\n",
              "      <th>song_name</th>\n",
              "      <th>song_gn_gnr_basket</th>\n",
              "      <th>artist_name_basket</th>\n",
              "      <th>id</th>\n",
              "    </tr>\n",
              "  </thead>\n",
              "  <tbody>\n",
              "    <tr>\n",
              "      <th>21</th>\n",
              "      <td>[]</td>\n",
              "      <td>20200331</td>\n",
              "      <td>WHY</td>\n",
              "      <td>10410508</td>\n",
              "      <td>[417985]</td>\n",
              "      <td>WHY</td>\n",
              "      <td>[]</td>\n",
              "      <td>[4minute]</td>\n",
              "      <td>21</td>\n",
              "    </tr>\n",
              "    <tr>\n",
              "      <th>262</th>\n",
              "      <td>[]</td>\n",
              "      <td>20150318</td>\n",
              "      <td>노년의 건강을 지켜주는 음악 처방전 (부제 : 휴식 때 들으면 좋은 음악친구)</td>\n",
              "      <td>2309524</td>\n",
              "      <td>[726909]</td>\n",
              "      <td>Bio Sound `Breathing &amp; Big Bell`</td>\n",
              "      <td>[]</td>\n",
              "      <td>[차병원]</td>\n",
              "      <td>262</td>\n",
              "    </tr>\n",
              "    <tr>\n",
              "      <th>399</th>\n",
              "      <td>[]</td>\n",
              "      <td>20200106</td>\n",
              "      <td>뽀로로 겨울 동요</td>\n",
              "      <td>10372098</td>\n",
              "      <td>[1703695]</td>\n",
              "      <td>초코 초코 핫초코</td>\n",
              "      <td>[]</td>\n",
              "      <td>[아이코닉스 (ICONIX)]</td>\n",
              "      <td>399</td>\n",
              "    </tr>\n",
              "  </tbody>\n",
              "</table>\n",
              "</div>"
            ],
            "text/plain": [
              "    song_gn_dtl_gnr_basket  issue_date  ... artist_name_basket   id\n",
              "21                      []    20200331  ...          [4minute]   21\n",
              "262                     []    20150318  ...              [차병원]  262\n",
              "399                     []    20200106  ...   [아이코닉스 (ICONIX)]  399\n",
              "\n",
              "[3 rows x 9 columns]"
            ]
          },
          "metadata": {
            "tags": []
          },
          "execution_count": 22
        }
      ]
    },
    {
      "cell_type": "code",
      "metadata": {
        "id": "E_FOO0nfpQxE"
      },
      "source": [
        "extract_words = lambda df: df.album_name + ' ' + df.song_name + ' ' + df.artist_name_basket.apply(' '.join)\n",
        "words = extract_words(empty_gnr)"
      ],
      "execution_count": null,
      "outputs": []
    },
    {
      "cell_type": "code",
      "metadata": {
        "id": "szqvJGxKsk4o",
        "colab": {
          "base_uri": "https://localhost:8080/",
          "height": 89
        },
        "outputId": "c4f1c97a-bfed-4c40-8879-1c222f806fc1"
      },
      "source": [
        "words = word_ppc(words)\n",
        "words.head(3)"
      ],
      "execution_count": null,
      "outputs": [
        {
          "output_type": "execute_result",
          "data": {
            "text/plain": [
              "21                                       why why 4minute\n",
              "262    노년의 건강을 지켜주는 음악 처방전 부제 휴식 때 들으면 좋은 음악친구 bio so...\n",
              "399                     뽀로로 겨울 동요 초코 초코 핫초코 아이코닉스 iconix\n",
              "dtype: object"
            ]
          },
          "metadata": {
            "tags": []
          },
          "execution_count": 24
        }
      ]
    },
    {
      "cell_type": "code",
      "metadata": {
        "id": "iaNYiCUCVxS8",
        "colab": {
          "base_uri": "https://localhost:8080/",
          "height": 197
        },
        "outputId": "d26622db-eeeb-4dae-88e8-c1648c172486"
      },
      "source": [
        "key_words = '|'.join(\n",
        "    ['어린이|아기|아가|태교|자장가|동요|귤|산모|kid|child',\n",
        "     '노년|테라피|휴식|명상|숙면|건강|새소리|자살|요가|명상|힐링|바람|asmr', \n",
        "     '크리스마스|캐롤|christmas|carol|징글벨|xmas|루돌프|rudolph|santa', \n",
        "     'ost|시네마|영화|toystory|toy story|disney|낭만닥터', # ost\n",
        "     '클래식|베토벤|쇼팽|piano|체르니|악보|orchestra|major|minor|전주곡', \n",
        "     '뉴에이지|피아노|이루마|닐케이|선샤인|오르골|마음|여행|아름|고요|분위기|기분|자연|계절|추억|편안|빗소리|상쾌|불안|성찰|바람', \n",
        "     '재즈|jazz',\n",
        "     '뮤지컬', \n",
        "     '성인|가요|트롯|트로트|조용필|태진아', # 성인가요\n",
        "     '흥부|놀부|궁중', # 국악\n",
        "     '골방라이브|maria|모세|주님|그리스도', # CCM\n",
        "     '스님|그리스도|예수|목탁|찬송가|성경', # 종교\n",
        "     '댄스|dance|party|응원|ioah|이효리|생일|대학|대회|중계|뮤직섬', # 댄스\n",
        "     'pop|마이클잭슨|michael jackson', # 팝\n",
        "     '팝|최유리', # 팝\n",
        "     '지미 브라운|브라운 아이드 소울', # R&B'\n",
        "     '브금|bgm|몽환|환상', # 브금\n",
        "     '김필|정준일|스텔라장|박원|윤종신|박혜원|소유|한동근|에릭남|조관우|백지영|어반자카파|성시경|폴킴|임한별|길구봉구|테이|정승환|김장훈|김민종|엠씨더맥스|박경태', # 발라드\n",
        "     'coldplay|노브레인|오월|호피폴라|혁오|넬|상상밴드|밴디지|엔플라잉|윤하|수호|새소년|rock', # 록\n",
        "     '스윙스|식케이|딘딘|슬리피|블랙나인|딥플로우|보이비|딥플로우|노엘|noel|우원재|mc몽|기리보이|프라이머리|펀치|hash swan', # 힙합\n",
        "     '어쿠스틱|acoustic|데이식스|윤딴딴|심규선|박새별|선우정아|스웨덴세탁소|크루셜스타|빈센트블루|백예린|장재인|봄여름가을겨울|브로콜리너마저|멜로망스', # 인디\n",
        "     '아이돌|kard|방탄소년단|아스트로|펜타곤|서사무엘|여자아이들|비투비|강다니엘|2pm|브라운아이드걸스|여자친구|에버글로우|원더나인|핫펠트|뉴이스트|박봄|온리원오브|갓세븐|갓세븐|최강창민|4minute|에이프릴|헨리|exo|김동준|젝스키스|온앤오프|henry|에이티즈' # 아이돌\n",
        "    ]\n",
        ")\n",
        "words[~words.str.contains(key_words, regex = True)].unique()[:10]"
      ],
      "execution_count": null,
      "outputs": [
        {
          "output_type": "execute_result",
          "data": {
            "text/plain": [
              "array(['tropical lullaby kalua lullaby the moonlighters',\n",
              "       'open it up open it up tchengiz', '66 how are you 유노이아 eunoia',\n",
              "       'festivals the collection streaming ver stuck on repeat little boots',\n",
              "       'sing casey jones and other railroad songs choo choo charlie choo choo charlie and his family',\n",
              "       'episode ii who feat chillin homie bully da ba tard oceanfromtheblue',\n",
              "       'running running pihai ryan allyson chen yonien rgry',\n",
              "       'only jesus new york sessions only jesus new york sessions casting crowns',\n",
              "       'a night at the met and the future robin williams',\n",
              "       'righteous wrath 7 the righteous wrath of an honorable man colin stetson'],\n",
              "      dtype=object)"
            ]
          },
          "metadata": {
            "tags": []
          },
          "execution_count": 25
        }
      ]
    },
    {
      "cell_type": "code",
      "metadata": {
        "id": "5lpi_swpEfLE"
      },
      "source": [
        "def genre_replace(df):\n",
        "  code_regex_pair = [\n",
        "      ('GN0100', '김필|정준일|스텔라장|박원|윤종신|박혜원|소유|한동근|에릭남|조관우|백지영|어반자카파|성시경|폴킴|임한별|길구봉구|테이|정승환|김장훈|김민종|엠씨더맥스|박경태'),\n",
        "      ('GN0200', '댄스|dance|party|응원|ioah|이효리|생일|대학|대회|중계|뮤직섬'),\n",
        "      ('GN0300', '스윙스|식케이|딘딘|슬리피|블랙나인|딥플로우|보이비|딥플로우|노엘|noel|우원재|mc몽|기리보이|프라이머리|펀치|hash swan'),\n",
        "      ('GN0400', '지미 브라운|브라운 아이드 소울'),\n",
        "      ('GN0500', '어쿠스틱|acoustic|데이식스|윤딴딴|심규선|박새별|선우정아|스웨덴세탁소|크루셜스타|빈센트블루|백예린|장재인|봄여름가을겨울|브로콜리너마저|멜로망스|최유리'),\n",
        "      ('GN0600', '노브레인|오월|호피폴라|혁오|넬|상상밴드|밴디지|엔플라잉|윤하|수호|새소년'),\n",
        "      ('GN1000', 'rock|coldplay'),\n",
        "      ('GN1500', 'ost|시네마|영화|toystory|toy story|disney|낭만닥터'),\n",
        "      ('GN1600', '클래식|베토벤|쇼팽|piano|체르니|악보|orchestra|major|minor|전주곡'),\n",
        "      ('GN1800', '뉴에이지|피아노|이루마|닐케이|선샤인|오르골|마음|여행|아름|고요|분위기|기분|추억|편안|빗소리|상쾌|불안|성찰'),\n",
        "      ('GN1100', '브금|bgm|몽환|환상'),\n",
        "      ('GN1700', '재즈|jazz'),\n",
        "      ('GN2100', '골방라이브|maria|모세|주님|그리스도'),\n",
        "      ('GN2200', '어린이|아기|아가|태교|자장가|동요|귤|산모|kid|child'),\n",
        "      ('GN2300', '스님|그리스도|예수|목탁|찬송가|성경'),\n",
        "      ('GN2400', '흥부|놀부|궁중'),\n",
        "      ('GN2500', '아이돌|kard|방탄소년단|아스트로|펜타곤|서사무엘|여자아이들|비투비|강다니엘|2pm|브라운아이드걸스|여자친구|에버글로우|원더나인|핫펠트|뉴이스트|박봄|온리원오브|갓세븐|갓세븐|최강창민|4minute|에이프릴|헨리|exo|김동준|젝스키스|온앤오프|henry|에이티즈'),\n",
        "      ('GN2800', '노년|테라피|휴식|명상|숙면|건강|새소리|자살|요가|명상|힐링|자연|계절|바람|asmr'),\n",
        "      ('GN2900', '뮤지컬'),\n",
        "      ('GN3000', '크리스마스|캐롤|christmas|carol|징글벨|xmas|루돌프|rudolph|santa'),\n",
        "      ('GN0700', '성인|가요|트롯|트로트|조용필|태진아')\n",
        "  ]\n",
        "  for code, regex in tqdm(code_regex_pair):\n",
        "    idx = words.str.contains(regex, na = False).index\n",
        "    df.loc[idx, 'song_gn_gnr_basket'] = df.loc[idx, 'song_gn_gnr_basket'].apply(lambda x: x + [code])\n",
        "  return df"
      ],
      "execution_count": null,
      "outputs": []
    },
    {
      "cell_type": "code",
      "metadata": {
        "id": "WDe38OyI_Wwv",
        "colab": {
          "base_uri": "https://localhost:8080/",
          "height": 226,
          "referenced_widgets": [
            "858b64650b034db5b7ce55ed6596d84b",
            "8f9e0997c46f4293996546ee6763cfc8",
            "8e385e82c58148f69457128ad4ae206f",
            "ab97ec4af39f46fbbb985135dbf4e3e8",
            "a09bee56bc1047ccabfabae0f046a33d",
            "df0a2ac800ac49b48e3eee18c655a7c8",
            "bf9c72820e2f4e6a8c5266cd8489fc81",
            "8a6a9d4c7e3c448096392f90102282ac"
          ]
        },
        "outputId": "1da0ca2a-144e-402f-ebb8-a949d92beba3"
      },
      "source": [
        "song_meta = genre_replace(song_meta)\n",
        "song_meta.head(3)"
      ],
      "execution_count": null,
      "outputs": [
        {
          "output_type": "display_data",
          "data": {
            "application/vnd.jupyter.widget-view+json": {
              "model_id": "858b64650b034db5b7ce55ed6596d84b",
              "version_minor": 0,
              "version_major": 2
            },
            "text/plain": [
              "HBox(children=(FloatProgress(value=0.0, max=21.0), HTML(value='')))"
            ]
          },
          "metadata": {
            "tags": []
          }
        },
        {
          "output_type": "stream",
          "text": [
            "\n"
          ],
          "name": "stdout"
        },
        {
          "output_type": "execute_result",
          "data": {
            "text/html": [
              "<div>\n",
              "<style scoped>\n",
              "    .dataframe tbody tr th:only-of-type {\n",
              "        vertical-align: middle;\n",
              "    }\n",
              "\n",
              "    .dataframe tbody tr th {\n",
              "        vertical-align: top;\n",
              "    }\n",
              "\n",
              "    .dataframe thead th {\n",
              "        text-align: right;\n",
              "    }\n",
              "</style>\n",
              "<table border=\"1\" class=\"dataframe\">\n",
              "  <thead>\n",
              "    <tr style=\"text-align: right;\">\n",
              "      <th></th>\n",
              "      <th>song_gn_dtl_gnr_basket</th>\n",
              "      <th>issue_date</th>\n",
              "      <th>album_name</th>\n",
              "      <th>album_id</th>\n",
              "      <th>artist_id_basket</th>\n",
              "      <th>song_name</th>\n",
              "      <th>song_gn_gnr_basket</th>\n",
              "      <th>artist_name_basket</th>\n",
              "      <th>id</th>\n",
              "    </tr>\n",
              "  </thead>\n",
              "  <tbody>\n",
              "    <tr>\n",
              "      <th>0</th>\n",
              "      <td>[GN0901]</td>\n",
              "      <td>20140512</td>\n",
              "      <td>불후의 명곡 - 7080 추억의 얄개시대 팝송베스트</td>\n",
              "      <td>2255639</td>\n",
              "      <td>[2727]</td>\n",
              "      <td>Feelings</td>\n",
              "      <td>[GN0900]</td>\n",
              "      <td>[Various Artists]</td>\n",
              "      <td>0</td>\n",
              "    </tr>\n",
              "    <tr>\n",
              "      <th>1</th>\n",
              "      <td>[GN1601, GN1606]</td>\n",
              "      <td>20080421</td>\n",
              "      <td>Bach : Partitas Nos. 2, 3 &amp; 4</td>\n",
              "      <td>376431</td>\n",
              "      <td>[29966]</td>\n",
              "      <td>Bach : Partita No. 4 In D Major, BWV 828 - II....</td>\n",
              "      <td>[GN1600]</td>\n",
              "      <td>[Murray Perahia]</td>\n",
              "      <td>1</td>\n",
              "    </tr>\n",
              "    <tr>\n",
              "      <th>2</th>\n",
              "      <td>[GN0901]</td>\n",
              "      <td>20180518</td>\n",
              "      <td>Hit</td>\n",
              "      <td>4698747</td>\n",
              "      <td>[3361]</td>\n",
              "      <td>Solsbury Hill (Remastered 2002)</td>\n",
              "      <td>[GN0900]</td>\n",
              "      <td>[Peter Gabriel]</td>\n",
              "      <td>2</td>\n",
              "    </tr>\n",
              "  </tbody>\n",
              "</table>\n",
              "</div>"
            ],
            "text/plain": [
              "  song_gn_dtl_gnr_basket  issue_date  ... artist_name_basket  id\n",
              "0               [GN0901]    20140512  ...  [Various Artists]   0\n",
              "1       [GN1601, GN1606]    20080421  ...   [Murray Perahia]   1\n",
              "2               [GN0901]    20180518  ...    [Peter Gabriel]   2\n",
              "\n",
              "[3 rows x 9 columns]"
            ]
          },
          "metadata": {
            "tags": []
          },
          "execution_count": 27
        }
      ]
    },
    {
      "cell_type": "markdown",
      "metadata": {
        "id": "WheZ8vz23tfr"
      },
      "source": [
        "## 3.3 곡 메타데이터 아티스트 전처리"
      ]
    },
    {
      "cell_type": "code",
      "metadata": {
        "id": "QUs3yJcUfDoA",
        "colab": {
          "base_uri": "https://localhost:8080/",
          "height": 176
        },
        "outputId": "d86847cb-98c7-4ba0-e506-273a62e386ea"
      },
      "source": [
        "anormal_artist = song_meta.assign(\n",
        "    artist_id_cnt = lambda x: x.artist_id_basket.apply(len),\n",
        "    artist_cnt = lambda x: x.artist_name_basket.apply(len)\n",
        ").query('artist_id_cnt != artist_cnt')\n",
        "\n",
        "anormal_artist.head(3)"
      ],
      "execution_count": null,
      "outputs": [
        {
          "output_type": "execute_result",
          "data": {
            "text/html": [
              "<div>\n",
              "<style scoped>\n",
              "    .dataframe tbody tr th:only-of-type {\n",
              "        vertical-align: middle;\n",
              "    }\n",
              "\n",
              "    .dataframe tbody tr th {\n",
              "        vertical-align: top;\n",
              "    }\n",
              "\n",
              "    .dataframe thead th {\n",
              "        text-align: right;\n",
              "    }\n",
              "</style>\n",
              "<table border=\"1\" class=\"dataframe\">\n",
              "  <thead>\n",
              "    <tr style=\"text-align: right;\">\n",
              "      <th></th>\n",
              "      <th>song_gn_dtl_gnr_basket</th>\n",
              "      <th>issue_date</th>\n",
              "      <th>album_name</th>\n",
              "      <th>album_id</th>\n",
              "      <th>artist_id_basket</th>\n",
              "      <th>song_name</th>\n",
              "      <th>song_gn_gnr_basket</th>\n",
              "      <th>artist_name_basket</th>\n",
              "      <th>id</th>\n",
              "      <th>artist_id_cnt</th>\n",
              "      <th>artist_cnt</th>\n",
              "    </tr>\n",
              "  </thead>\n",
              "  <tbody>\n",
              "    <tr>\n",
              "      <th>6238</th>\n",
              "      <td>[GN0901]</td>\n",
              "      <td>20010403</td>\n",
              "      <td>Liberty City Fla.</td>\n",
              "      <td>45928</td>\n",
              "      <td>[56936]</td>\n",
              "      <td>I Met Her In Miami</td>\n",
              "      <td>[GN0900]</td>\n",
              "      <td>[Liberty, City]</td>\n",
              "      <td>6238</td>\n",
              "      <td>1</td>\n",
              "      <td>2</td>\n",
              "    </tr>\n",
              "    <tr>\n",
              "      <th>15100</th>\n",
              "      <td>[GN0901]</td>\n",
              "      <td>20071214</td>\n",
              "      <td>아름다운 드라이브 Cinema &amp; Musical</td>\n",
              "      <td>362455</td>\n",
              "      <td>[232053]</td>\n",
              "      <td>Think Of Me</td>\n",
              "      <td>[GN0900]</td>\n",
              "      <td>[Los, Dioses]</td>\n",
              "      <td>15100</td>\n",
              "      <td>1</td>\n",
              "      <td>2</td>\n",
              "    </tr>\n",
              "    <tr>\n",
              "      <th>64162</th>\n",
              "      <td>[GN1601, GN1602, GN1613]</td>\n",
              "      <td>20180216</td>\n",
              "      <td>50 Violin Masterworks</td>\n",
              "      <td>4442865</td>\n",
              "      <td>[174433, 1543263, 1459364, 2240313]</td>\n",
              "      <td>Richter: Recomposed By Max Richter: Vivaldi, T...</td>\n",
              "      <td>[GN1600]</td>\n",
              "      <td>[Daniel Hope, Christian Badzura, Jane Berthe, ...</td>\n",
              "      <td>64162</td>\n",
              "      <td>4</td>\n",
              "      <td>5</td>\n",
              "    </tr>\n",
              "  </tbody>\n",
              "</table>\n",
              "</div>"
            ],
            "text/plain": [
              "         song_gn_dtl_gnr_basket  issue_date  ... artist_id_cnt  artist_cnt\n",
              "6238                   [GN0901]    20010403  ...             1           2\n",
              "15100                  [GN0901]    20071214  ...             1           2\n",
              "64162  [GN1601, GN1602, GN1613]    20180216  ...             4           5\n",
              "\n",
              "[3 rows x 11 columns]"
            ]
          },
          "metadata": {
            "tags": []
          },
          "execution_count": 28
        }
      ]
    },
    {
      "cell_type": "code",
      "metadata": {
        "id": "7_U1DFLka6zf"
      },
      "source": [
        "def artist_replace(df):\n",
        "  artist_replace_pair = [(\"'Liberty', 'City'\", ['Liberty City']),\n",
        "                         (\"'Los', 'Dioses'\", ['Los Dioses']),\n",
        "                         (\"'Cast', 'Of The Lodge'\", ['Cast Of The Lodge']),\n",
        "                         (\"'Anna Palina', '', 'Draupner'\", ['Anna Palina', 'Draupner']),\n",
        "                         (\"'A`Typisk', ''\", ['A`Typisk']),\n",
        "                         (\"'The', 'Beat Junkies'\", ['The Beat Junkies']),\n",
        "                         (\"'The Randy Watson Experience &', 'Bilal'\", ['The Randy Watson Experience & Bilal']),\n",
        "                         (\"'Daniel Hope', 'Christian Badzura', 'Jane Berthe', 'Z&#252;rcher', 'Kammerorchester'\", ['Daniel Hope', 'Christian Badzura', 'Jane Berthe', 'Kammerorchester']),\n",
        "                         (\"'Victoria De Los', 'Angeles, Orchestre De L`Opera De Rome, Giuseppe Morelli'\", ['Victoria De Los Angeles & Orchestre De L`Opera De Rome & Giuseppe Morelli']),\n",
        "                         (\"'Henri Lanz', 'Skinny Williams', 'WILLIAM RAPPAPORT', ''\", ['Henri Lanz', 'Skinny Williams', 'WILLIAM RAPPAPORT'])]\n",
        "  artist_str = df.artist_name_basket.astype(str).str\n",
        "  for pair in tqdm(artist_replace_pair):\n",
        "    anormal_idx = df[artist_str.contains(pair[0])].index\n",
        "    df.loc[anormal_idx, 'artist_name_basket'] = df.loc[anormal_idx, 'artist_name_basket'].apply(lambda x: pair[1])\n",
        "  return df"
      ],
      "execution_count": null,
      "outputs": []
    },
    {
      "cell_type": "code",
      "metadata": {
        "id": "FpCFXH9VDhFd",
        "colab": {
          "base_uri": "https://localhost:8080/",
          "height": 226,
          "referenced_widgets": [
            "b46cfadcd4474bd78178242fb628c430",
            "d844d7b33bc948119a01925e6192ec09",
            "c5c632ef190541e5ad430c21d5aaedfa",
            "5e15855c48a04e319ab0bf6466a28707",
            "8ce94657555b4c238e49cfad77097a7c",
            "884a25aa2915409b920d0068f55e0354",
            "a6e2fa376f3e465f944a25d41e3a23ba",
            "e67ad97adbc447e3bf971e11c18df5da"
          ]
        },
        "outputId": "c05d90e2-ae43-44c9-89be-8b36ba0c0cc7"
      },
      "source": [
        "song_meta = artist_replace(song_meta)\n",
        "song_meta.head(3)"
      ],
      "execution_count": null,
      "outputs": [
        {
          "output_type": "display_data",
          "data": {
            "application/vnd.jupyter.widget-view+json": {
              "model_id": "b46cfadcd4474bd78178242fb628c430",
              "version_minor": 0,
              "version_major": 2
            },
            "text/plain": [
              "HBox(children=(FloatProgress(value=0.0, max=10.0), HTML(value='')))"
            ]
          },
          "metadata": {
            "tags": []
          }
        },
        {
          "output_type": "stream",
          "text": [
            "\n"
          ],
          "name": "stdout"
        },
        {
          "output_type": "execute_result",
          "data": {
            "text/html": [
              "<div>\n",
              "<style scoped>\n",
              "    .dataframe tbody tr th:only-of-type {\n",
              "        vertical-align: middle;\n",
              "    }\n",
              "\n",
              "    .dataframe tbody tr th {\n",
              "        vertical-align: top;\n",
              "    }\n",
              "\n",
              "    .dataframe thead th {\n",
              "        text-align: right;\n",
              "    }\n",
              "</style>\n",
              "<table border=\"1\" class=\"dataframe\">\n",
              "  <thead>\n",
              "    <tr style=\"text-align: right;\">\n",
              "      <th></th>\n",
              "      <th>song_gn_dtl_gnr_basket</th>\n",
              "      <th>issue_date</th>\n",
              "      <th>album_name</th>\n",
              "      <th>album_id</th>\n",
              "      <th>artist_id_basket</th>\n",
              "      <th>song_name</th>\n",
              "      <th>song_gn_gnr_basket</th>\n",
              "      <th>artist_name_basket</th>\n",
              "      <th>id</th>\n",
              "    </tr>\n",
              "  </thead>\n",
              "  <tbody>\n",
              "    <tr>\n",
              "      <th>0</th>\n",
              "      <td>[GN0901]</td>\n",
              "      <td>20140512</td>\n",
              "      <td>불후의 명곡 - 7080 추억의 얄개시대 팝송베스트</td>\n",
              "      <td>2255639</td>\n",
              "      <td>[2727]</td>\n",
              "      <td>Feelings</td>\n",
              "      <td>[GN0900]</td>\n",
              "      <td>[Various Artists]</td>\n",
              "      <td>0</td>\n",
              "    </tr>\n",
              "    <tr>\n",
              "      <th>1</th>\n",
              "      <td>[GN1601, GN1606]</td>\n",
              "      <td>20080421</td>\n",
              "      <td>Bach : Partitas Nos. 2, 3 &amp; 4</td>\n",
              "      <td>376431</td>\n",
              "      <td>[29966]</td>\n",
              "      <td>Bach : Partita No. 4 In D Major, BWV 828 - II....</td>\n",
              "      <td>[GN1600]</td>\n",
              "      <td>[Murray Perahia]</td>\n",
              "      <td>1</td>\n",
              "    </tr>\n",
              "    <tr>\n",
              "      <th>2</th>\n",
              "      <td>[GN0901]</td>\n",
              "      <td>20180518</td>\n",
              "      <td>Hit</td>\n",
              "      <td>4698747</td>\n",
              "      <td>[3361]</td>\n",
              "      <td>Solsbury Hill (Remastered 2002)</td>\n",
              "      <td>[GN0900]</td>\n",
              "      <td>[Peter Gabriel]</td>\n",
              "      <td>2</td>\n",
              "    </tr>\n",
              "  </tbody>\n",
              "</table>\n",
              "</div>"
            ],
            "text/plain": [
              "  song_gn_dtl_gnr_basket  issue_date  ... artist_name_basket  id\n",
              "0               [GN0901]    20140512  ...  [Various Artists]   0\n",
              "1       [GN1601, GN1606]    20080421  ...   [Murray Perahia]   1\n",
              "2               [GN0901]    20180518  ...    [Peter Gabriel]   2\n",
              "\n",
              "[3 rows x 9 columns]"
            ]
          },
          "metadata": {
            "tags": []
          },
          "execution_count": 30
        }
      ]
    },
    {
      "cell_type": "markdown",
      "metadata": {
        "id": "fkfm-qkFMsjR"
      },
      "source": [
        "## 3.4 곡 메타데이터 결측 처리"
      ]
    },
    {
      "cell_type": "code",
      "metadata": {
        "id": "dD4O9tUhMy1x",
        "colab": {
          "base_uri": "https://localhost:8080/",
          "height": 197
        },
        "outputId": "49770004-2416-413e-d8c7-5f505c48eb8f"
      },
      "source": [
        "print(song_meta.isna().sum(axis = 0))"
      ],
      "execution_count": null,
      "outputs": [
        {
          "output_type": "stream",
          "text": [
            "song_gn_dtl_gnr_basket    0\n",
            "issue_date                0\n",
            "album_name                4\n",
            "album_id                  0\n",
            "artist_id_basket          0\n",
            "song_name                 0\n",
            "song_gn_gnr_basket        0\n",
            "artist_name_basket        0\n",
            "id                        0\n",
            "dtype: int64\n"
          ],
          "name": "stdout"
        }
      ]
    },
    {
      "cell_type": "code",
      "metadata": {
        "id": "B9F2tHcjM4OW"
      },
      "source": [
        "def fill_missing(df):\n",
        "  df['album_name'] = df.album_name.fillna('')\n",
        "  return df"
      ],
      "execution_count": null,
      "outputs": []
    },
    {
      "cell_type": "code",
      "metadata": {
        "id": "jGdFPY6nNBst"
      },
      "source": [
        "song_meta = fill_missing(song_meta)"
      ],
      "execution_count": null,
      "outputs": []
    },
    {
      "cell_type": "markdown",
      "metadata": {
        "id": "bXJzb_j_gdl6"
      },
      "source": [
        "## 3.5 곡 메타데이터 자연어 처리"
      ]
    },
    {
      "cell_type": "code",
      "metadata": {
        "id": "-1YhkOVmFC2b"
      },
      "source": [
        "artist_id = song_meta.artist_id_basket.explode()\n",
        "artist_name = song_meta.artist_name_basket.explode()"
      ],
      "execution_count": null,
      "outputs": []
    },
    {
      "cell_type": "code",
      "metadata": {
        "id": "plhKEuBFFDF8"
      },
      "source": [
        "artist_name = artist_name.str.lower()\n",
        "artist_dic = {i: n for i, n in zip(artist_id, artist_name)}"
      ],
      "execution_count": null,
      "outputs": []
    },
    {
      "cell_type": "code",
      "metadata": {
        "id": "R5L-qS1XuRDu"
      },
      "source": [
        "def song_ppc(df):\n",
        "  df['album_name'] = word_ppc(df.album_name)\n",
        "  df['song_name'] = word_ppc(df.song_name)\n",
        "  df['artist_name_basket'] = df.artist_id_basket.apply(lambda x: [artist_dic[w] for w in x])\n",
        "  return df"
      ],
      "execution_count": null,
      "outputs": []
    },
    {
      "cell_type": "code",
      "metadata": {
        "id": "ZVc4fmXoDL3D",
        "colab": {
          "base_uri": "https://localhost:8080/",
          "height": 176
        },
        "outputId": "2c4a92fa-1fef-4542-8e3e-e9d40f40069b"
      },
      "source": [
        "song_meta = song_ppc(song_meta)\n",
        "song_meta.head(3)"
      ],
      "execution_count": null,
      "outputs": [
        {
          "output_type": "execute_result",
          "data": {
            "text/html": [
              "<div>\n",
              "<style scoped>\n",
              "    .dataframe tbody tr th:only-of-type {\n",
              "        vertical-align: middle;\n",
              "    }\n",
              "\n",
              "    .dataframe tbody tr th {\n",
              "        vertical-align: top;\n",
              "    }\n",
              "\n",
              "    .dataframe thead th {\n",
              "        text-align: right;\n",
              "    }\n",
              "</style>\n",
              "<table border=\"1\" class=\"dataframe\">\n",
              "  <thead>\n",
              "    <tr style=\"text-align: right;\">\n",
              "      <th></th>\n",
              "      <th>song_gn_dtl_gnr_basket</th>\n",
              "      <th>issue_date</th>\n",
              "      <th>album_name</th>\n",
              "      <th>album_id</th>\n",
              "      <th>artist_id_basket</th>\n",
              "      <th>song_name</th>\n",
              "      <th>song_gn_gnr_basket</th>\n",
              "      <th>artist_name_basket</th>\n",
              "      <th>id</th>\n",
              "    </tr>\n",
              "  </thead>\n",
              "  <tbody>\n",
              "    <tr>\n",
              "      <th>0</th>\n",
              "      <td>[GN0901]</td>\n",
              "      <td>20140512</td>\n",
              "      <td>불후의 명곡 7080 추억의 얄개시대 팝송베스트</td>\n",
              "      <td>2255639</td>\n",
              "      <td>[2727]</td>\n",
              "      <td>feelings</td>\n",
              "      <td>[GN0900]</td>\n",
              "      <td>[various artists]</td>\n",
              "      <td>0</td>\n",
              "    </tr>\n",
              "    <tr>\n",
              "      <th>1</th>\n",
              "      <td>[GN1601, GN1606]</td>\n",
              "      <td>20080421</td>\n",
              "      <td>bach partitas nos 2 3 4</td>\n",
              "      <td>376431</td>\n",
              "      <td>[29966]</td>\n",
              "      <td>bach partita no 4 in d major bwv 828 ii allemande</td>\n",
              "      <td>[GN1600]</td>\n",
              "      <td>[murray perahia]</td>\n",
              "      <td>1</td>\n",
              "    </tr>\n",
              "    <tr>\n",
              "      <th>2</th>\n",
              "      <td>[GN0901]</td>\n",
              "      <td>20180518</td>\n",
              "      <td>hit</td>\n",
              "      <td>4698747</td>\n",
              "      <td>[3361]</td>\n",
              "      <td>solsbury hill remastered 2002</td>\n",
              "      <td>[GN0900]</td>\n",
              "      <td>[peter gabriel]</td>\n",
              "      <td>2</td>\n",
              "    </tr>\n",
              "  </tbody>\n",
              "</table>\n",
              "</div>"
            ],
            "text/plain": [
              "  song_gn_dtl_gnr_basket  issue_date  ... artist_name_basket  id\n",
              "0               [GN0901]    20140512  ...  [various artists]   0\n",
              "1       [GN1601, GN1606]    20080421  ...   [murray perahia]   1\n",
              "2               [GN0901]    20180518  ...    [peter gabriel]   2\n",
              "\n",
              "[3 rows x 9 columns]"
            ]
          },
          "metadata": {
            "tags": []
          },
          "execution_count": 37
        }
      ]
    },
    {
      "cell_type": "markdown",
      "metadata": {
        "id": "HZtxgIZm-UdE"
      },
      "source": [
        "## 3.6 곡 메타데이터 장르 추가"
      ]
    },
    {
      "cell_type": "code",
      "metadata": {
        "id": "f76SOiZvCUgX"
      },
      "source": [
        "def add_gnr_keyword(df):\n",
        "  genre_dic = {genre.at[idx, 'gnr_code']: genre.at[idx, 'gnr_basket'] for idx in genre.index}\n",
        "  song_gnr_keywords = []\n",
        "  for idx in tqdm(df.index):\n",
        "    gnr_info = df.at[idx, 'song_gn_dtl_gnr_basket'] + df.at[idx, 'song_gn_gnr_basket']\n",
        "    gnr_names = list({n for g in gnr_info for n in genre_dic[g]})\n",
        "    song_gnr_keywords.append(gnr_names)\n",
        "  song_gnr_keywords = pd.Series(song_gnr_keywords)\n",
        "  df['song_gnr_keywords'] = song_gnr_keywords\n",
        "  return df"
      ],
      "execution_count": null,
      "outputs": []
    },
    {
      "cell_type": "code",
      "metadata": {
        "id": "_rS__FH5C0uR",
        "colab": {
          "base_uri": "https://localhost:8080/",
          "height": 226,
          "referenced_widgets": [
            "c7dfae13f7c54b62b36dc0ce843a6588",
            "d8ba451aaf854724983f102f6cf99040",
            "3035be15936043259f9f61461312c3b1",
            "0f580e77793b43f991056a9231bfe784",
            "d99178bd5d3842c580e7889bcefe07db",
            "28513ac2eaa348c89d9e4120f2a7c9d2",
            "0844c68419814533b41c12240b796385",
            "5e8e2a7998b643559d95e8a0f1e74c0e"
          ]
        },
        "outputId": "54c0c9f8-1a03-494e-afda-b8f86364ceba"
      },
      "source": [
        "song_meta = add_gnr_keyword(song_meta)\n",
        "song_meta.head(3)"
      ],
      "execution_count": null,
      "outputs": [
        {
          "output_type": "display_data",
          "data": {
            "application/vnd.jupyter.widget-view+json": {
              "model_id": "c7dfae13f7c54b62b36dc0ce843a6588",
              "version_minor": 0,
              "version_major": 2
            },
            "text/plain": [
              "HBox(children=(FloatProgress(value=0.0, max=707989.0), HTML(value='')))"
            ]
          },
          "metadata": {
            "tags": []
          }
        },
        {
          "output_type": "stream",
          "text": [
            "\n"
          ],
          "name": "stdout"
        },
        {
          "output_type": "execute_result",
          "data": {
            "text/html": [
              "<div>\n",
              "<style scoped>\n",
              "    .dataframe tbody tr th:only-of-type {\n",
              "        vertical-align: middle;\n",
              "    }\n",
              "\n",
              "    .dataframe tbody tr th {\n",
              "        vertical-align: top;\n",
              "    }\n",
              "\n",
              "    .dataframe thead th {\n",
              "        text-align: right;\n",
              "    }\n",
              "</style>\n",
              "<table border=\"1\" class=\"dataframe\">\n",
              "  <thead>\n",
              "    <tr style=\"text-align: right;\">\n",
              "      <th></th>\n",
              "      <th>song_gn_dtl_gnr_basket</th>\n",
              "      <th>issue_date</th>\n",
              "      <th>album_name</th>\n",
              "      <th>album_id</th>\n",
              "      <th>artist_id_basket</th>\n",
              "      <th>song_name</th>\n",
              "      <th>song_gn_gnr_basket</th>\n",
              "      <th>artist_name_basket</th>\n",
              "      <th>id</th>\n",
              "      <th>song_gnr_keywords</th>\n",
              "    </tr>\n",
              "  </thead>\n",
              "  <tbody>\n",
              "    <tr>\n",
              "      <th>0</th>\n",
              "      <td>[GN0901]</td>\n",
              "      <td>20140512</td>\n",
              "      <td>불후의 명곡 7080 추억의 얄개시대 팝송베스트</td>\n",
              "      <td>2255639</td>\n",
              "      <td>[2727]</td>\n",
              "      <td>feelings</td>\n",
              "      <td>[GN0900]</td>\n",
              "      <td>[various artists]</td>\n",
              "      <td>0</td>\n",
              "      <td>[국외, 팝]</td>\n",
              "    </tr>\n",
              "    <tr>\n",
              "      <th>1</th>\n",
              "      <td>[GN1601, GN1606]</td>\n",
              "      <td>20080421</td>\n",
              "      <td>bach partitas nos 2 3 4</td>\n",
              "      <td>376431</td>\n",
              "      <td>[29966]</td>\n",
              "      <td>bach partita no 4 in d major bwv 828 ii allemande</td>\n",
              "      <td>[GN1600]</td>\n",
              "      <td>[murray perahia]</td>\n",
              "      <td>1</td>\n",
              "      <td>[독주곡, 클래식]</td>\n",
              "    </tr>\n",
              "    <tr>\n",
              "      <th>2</th>\n",
              "      <td>[GN0901]</td>\n",
              "      <td>20180518</td>\n",
              "      <td>hit</td>\n",
              "      <td>4698747</td>\n",
              "      <td>[3361]</td>\n",
              "      <td>solsbury hill remastered 2002</td>\n",
              "      <td>[GN0900]</td>\n",
              "      <td>[peter gabriel]</td>\n",
              "      <td>2</td>\n",
              "      <td>[국외, 팝]</td>\n",
              "    </tr>\n",
              "  </tbody>\n",
              "</table>\n",
              "</div>"
            ],
            "text/plain": [
              "  song_gn_dtl_gnr_basket  issue_date  ... id  song_gnr_keywords\n",
              "0               [GN0901]    20140512  ...  0            [국외, 팝]\n",
              "1       [GN1601, GN1606]    20080421  ...  1         [독주곡, 클래식]\n",
              "2               [GN0901]    20180518  ...  2            [국외, 팝]\n",
              "\n",
              "[3 rows x 10 columns]"
            ]
          },
          "metadata": {
            "tags": []
          },
          "execution_count": 39
        }
      ]
    },
    {
      "cell_type": "markdown",
      "metadata": {
        "id": "0TkY17Qi9T_r"
      },
      "source": [
        "## 3.7 곡 메타데이터 선호도 및 인기도 추가"
      ]
    },
    {
      "cell_type": "code",
      "metadata": {
        "id": "kt0C0JZr9T1O"
      },
      "source": [
        "def add_like_cnt(df):\n",
        "    like_cnt = train[['songs', 'like_cnt']].assign(like_cnt = lambda x: x.like_cnt / x.songs.apply(len))\n",
        "    like_cnt = like_cnt.explode('songs').dropna()\n",
        "    like_cnt = like_cnt.groupby('songs', as_index = False)[['like_cnt']].agg('sum')\n",
        "    like_cnt['like_cnt'] = like_cnt.like_cnt.apply(np.log1p)\n",
        "    like_cnt['like_cnt'] = like_cnt.like_cnt / np.max(like_cnt.like_cnt)\n",
        "    merged = pd.merge(\n",
        "        df, like_cnt,\n",
        "        how = 'left', left_on = 'id', right_on = 'songs'\n",
        "    ).fillna(0)\n",
        "    return merged.drop(columns = 'songs')\n",
        "\n",
        "def add_popular(df):\n",
        "    popular = train[['songs', 'id']].explode('songs').dropna()\n",
        "    popular = popular.groupby('songs', as_index = False)[['id']].agg('count')\n",
        "    popular = popular.rename(columns = {'id': 'popular'})\n",
        "    popular['popular'] = popular.popular.apply(np.log1p)\n",
        "    popular['popular'] = popular.popular / np.max(popular.popular)\n",
        "    merged = pd.merge(\n",
        "        df, popular,\n",
        "        how = 'left', left_on = 'id', right_on = 'songs'\n",
        "    ).fillna(0)\n",
        "    return merged.drop(columns = 'songs')"
      ],
      "execution_count": null,
      "outputs": []
    },
    {
      "cell_type": "code",
      "metadata": {
        "id": "Kgv1RZ3Y9dwj",
        "colab": {
          "base_uri": "https://localhost:8080/",
          "height": 227
        },
        "outputId": "5f4bcbdd-828c-4156-ae05-d6496594d6e8"
      },
      "source": [
        "song_meta = add_like_cnt(song_meta)\n",
        "song_meta = add_popular(song_meta)\n",
        "song_meta.head(3)"
      ],
      "execution_count": null,
      "outputs": [
        {
          "output_type": "execute_result",
          "data": {
            "text/html": [
              "<div>\n",
              "<style scoped>\n",
              "    .dataframe tbody tr th:only-of-type {\n",
              "        vertical-align: middle;\n",
              "    }\n",
              "\n",
              "    .dataframe tbody tr th {\n",
              "        vertical-align: top;\n",
              "    }\n",
              "\n",
              "    .dataframe thead th {\n",
              "        text-align: right;\n",
              "    }\n",
              "</style>\n",
              "<table border=\"1\" class=\"dataframe\">\n",
              "  <thead>\n",
              "    <tr style=\"text-align: right;\">\n",
              "      <th></th>\n",
              "      <th>song_gn_dtl_gnr_basket</th>\n",
              "      <th>issue_date</th>\n",
              "      <th>album_name</th>\n",
              "      <th>album_id</th>\n",
              "      <th>artist_id_basket</th>\n",
              "      <th>song_name</th>\n",
              "      <th>song_gn_gnr_basket</th>\n",
              "      <th>artist_name_basket</th>\n",
              "      <th>id</th>\n",
              "      <th>song_gnr_keywords</th>\n",
              "      <th>like_cnt</th>\n",
              "      <th>popular</th>\n",
              "    </tr>\n",
              "  </thead>\n",
              "  <tbody>\n",
              "    <tr>\n",
              "      <th>0</th>\n",
              "      <td>[GN0901]</td>\n",
              "      <td>20140512</td>\n",
              "      <td>불후의 명곡 7080 추억의 얄개시대 팝송베스트</td>\n",
              "      <td>2255639</td>\n",
              "      <td>[2727]</td>\n",
              "      <td>feelings</td>\n",
              "      <td>[GN0900]</td>\n",
              "      <td>[various artists]</td>\n",
              "      <td>0</td>\n",
              "      <td>[국외, 팝]</td>\n",
              "      <td>0.058775</td>\n",
              "      <td>0.142951</td>\n",
              "    </tr>\n",
              "    <tr>\n",
              "      <th>1</th>\n",
              "      <td>[GN1601, GN1606]</td>\n",
              "      <td>20080421</td>\n",
              "      <td>bach partitas nos 2 3 4</td>\n",
              "      <td>376431</td>\n",
              "      <td>[29966]</td>\n",
              "      <td>bach partita no 4 in d major bwv 828 ii allemande</td>\n",
              "      <td>[GN1600]</td>\n",
              "      <td>[murray perahia]</td>\n",
              "      <td>1</td>\n",
              "      <td>[독주곡, 클래식]</td>\n",
              "      <td>0.000000</td>\n",
              "      <td>0.000000</td>\n",
              "    </tr>\n",
              "    <tr>\n",
              "      <th>2</th>\n",
              "      <td>[GN0901]</td>\n",
              "      <td>20180518</td>\n",
              "      <td>hit</td>\n",
              "      <td>4698747</td>\n",
              "      <td>[3361]</td>\n",
              "      <td>solsbury hill remastered 2002</td>\n",
              "      <td>[GN0900]</td>\n",
              "      <td>[peter gabriel]</td>\n",
              "      <td>2</td>\n",
              "      <td>[국외, 팝]</td>\n",
              "      <td>0.000000</td>\n",
              "      <td>0.000000</td>\n",
              "    </tr>\n",
              "  </tbody>\n",
              "</table>\n",
              "</div>"
            ],
            "text/plain": [
              "  song_gn_dtl_gnr_basket  issue_date  ...  like_cnt   popular\n",
              "0               [GN0901]    20140512  ...  0.058775  0.142951\n",
              "1       [GN1601, GN1606]    20080421  ...  0.000000  0.000000\n",
              "2               [GN0901]    20180518  ...  0.000000  0.000000\n",
              "\n",
              "[3 rows x 12 columns]"
            ]
          },
          "metadata": {
            "tags": []
          },
          "execution_count": 41
        }
      ]
    },
    {
      "cell_type": "code",
      "metadata": {
        "id": "Pt5naO-nDAEo"
      },
      "source": [
        "song_meta.to_json(base_path + 'data/song_meta_v1.json', orient = 'records', force_ascii = False)"
      ],
      "execution_count": null,
      "outputs": []
    }
  ]
}